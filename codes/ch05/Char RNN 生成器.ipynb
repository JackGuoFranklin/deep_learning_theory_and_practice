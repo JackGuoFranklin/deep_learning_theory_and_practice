{
 "cells": [
  {
   "cell_type": "markdown",
   "metadata": {},
   "source": [
    "# 使用RNN来生成莎士比亚风格的句子\n",
    "\n",
    "这个例子会用莎士比亚的著作来训练一个char-level RNN语言模型，同时使用它来生成莎士比亚风格的句子。"
   ]
  },
  {
   "cell_type": "markdown",
   "metadata": {},
   "source": [
    "## 数据准备\n",
    "\n",
    "输入文件是纯文本文件，我们会使用unidecode来把unicode转成ASCII文本。"
   ]
  },
  {
   "cell_type": "code",
   "execution_count": 2,
   "metadata": {},
   "outputs": [
    {
     "name": "stdout",
     "output_type": "stream",
     "text": [
      "file_len = 1115393\n"
     ]
    }
   ],
   "source": [
    "import unidecode\n",
    "import string\n",
    "import random\n",
    "import re\n",
    "\n",
    "all_characters = string.printable\n",
    "n_characters = len(all_characters)\n",
    "\n",
    "file = unidecode.unidecode(open('../data/shakespeare.txt').read())\n",
    "file_len = len(file)\n",
    "print('file_len =', file_len)"
   ]
  },
  {
   "cell_type": "markdown",
   "metadata": {},
   "source": [
    "这个文件太大了，我们随机的进行截断。"
   ]
  },
  {
   "cell_type": "code",
   "execution_count": 3,
   "metadata": {},
   "outputs": [
    {
     "name": "stdout",
     "output_type": "stream",
     "text": [
      "d madly play with my forefather's joints?\n",
      "And pluck the mangled Tybalt from his shroud?\n",
      "And, in this rage, with some great kinsman's bone,\n",
      "As with a club, dash out my desperate brains?\n",
      "O, look! methink\n"
     ]
    }
   ],
   "source": [
    "chunk_len = 200\n",
    "\n",
    "def random_chunk():\n",
    "    start_index = random.randint(0, file_len - chunk_len)\n",
    "    end_index = start_index + chunk_len + 1\n",
    "    return file[start_index:end_index]\n",
    "\n",
    "print(random_chunk())"
   ]
  },
  {
   "cell_type": "markdown",
   "metadata": {},
   "source": [
    "## 定义模型\n",
    "\n",
    "回忆一下之前的Char RNN 分类器，我们是“手动”实现的最朴素的RNN，现在我们使用更加先进的GRU。\n",
    "另外之前是没有Embedding的，直接用字母的one-hot作为输入。"
   ]
  },
  {
   "cell_type": "code",
   "execution_count": 4,
   "metadata": {},
   "outputs": [],
   "source": [
    "import torch\n",
    "import torch.nn as nn\n",
    "from torch.autograd import Variable\n",
    "\n",
    "class RNN(nn.Module):\n",
    "    def __init__(self, input_size, hidden_size, output_size, n_layers=1):\n",
    "        super(RNN, self).__init__()\n",
    "        self.input_size = input_size\n",
    "        self.hidden_size = hidden_size\n",
    "        self.output_size = output_size\n",
    "        self.n_layers = n_layers\n",
    "        \n",
    "        self.encoder = nn.Embedding(input_size, hidden_size)\n",
    "        self.gru = nn.GRU(hidden_size, hidden_size, n_layers)\n",
    "        self.decoder = nn.Linear(hidden_size, output_size)\n",
    "    \n",
    "    def forward(self, input, hidden):\n",
    "        input = self.encoder(input.view(1, -1))\n",
    "        output, hidden = self.gru(input.view(1, 1, -1), hidden)\n",
    "        output = self.decoder(output.view(1, -1))\n",
    "        return output, hidden\n",
    "\n",
    "    def init_hidden(self):\n",
    "        return Variable(torch.zeros(self.n_layers, 1, self.hidden_size))"
   ]
  },
  {
   "cell_type": "markdown",
   "metadata": {},
   "source": [
    "## 输入和输出"
   ]
  },
  {
   "cell_type": "markdown",
   "metadata": {},
   "source": [
    "每个chunk会变成一个LongTensor，做法是遍历每一个字母然后把它变成all_characters里的下标。"
   ]
  },
  {
   "cell_type": "code",
   "execution_count": 5,
   "metadata": {},
   "outputs": [
    {
     "name": "stdout",
     "output_type": "stream",
     "text": [
      "Variable containing:\n",
      " 10\n",
      " 11\n",
      " 12\n",
      " 39\n",
      " 40\n",
      " 41\n",
      "[torch.LongTensor of size 6]\n",
      "\n"
     ]
    }
   ],
   "source": [
    "# 把string变成LongTensor\n",
    "def char_tensor(string):\n",
    "    tensor = torch.zeros(len(string)).long()\n",
    "    for c in range(len(string)):\n",
    "        tensor[c] = all_characters.index(string[c])\n",
    "    return Variable(tensor)\n",
    "\n",
    "print(char_tensor('abcDEF'))"
   ]
  },
  {
   "cell_type": "markdown",
   "metadata": {},
   "source": [
    "最后我们随机的选择一个字符串作为训练数据，输入是字符串的第一个字母到倒数第二个字母，而输出是从第二个字母到最后一个字母。比如字符串是\"abc\"，那么输入就是\"ab\"，输出是\"bc\""
   ]
  },
  {
   "cell_type": "code",
   "execution_count": 6,
   "metadata": {},
   "outputs": [],
   "source": [
    "def random_training_set():    \n",
    "    chunk = random_chunk()\n",
    "    inp = char_tensor(chunk[:-1])\n",
    "    target = char_tensor(chunk[1:])\n",
    "    return inp, target"
   ]
  },
  {
   "cell_type": "markdown",
   "metadata": {},
   "source": [
    "## 生成句子\n",
    "\n",
    "为了评估模型生成的效果，我们首先需要让它来生成一些句子"
   ]
  },
  {
   "cell_type": "code",
   "execution_count": 7,
   "metadata": {},
   "outputs": [],
   "source": [
    "def evaluate(prime_str='A', predict_len=100, temperature=0.8):\n",
    "    hidden = decoder.init_hidden()\n",
    "    prime_input = char_tensor(prime_str)\n",
    "    predicted = prime_str\n",
    "\n",
    "    # 假设输入的前缀是字符串prime_str，先用它来改变隐状态\n",
    "    for p in range(len(prime_str) - 1):\n",
    "        _, hidden = decoder(prime_input[p], hidden)\n",
    "    inp = prime_input[-1]\n",
    "    \n",
    "    for p in range(predict_len):\n",
    "        output, hidden = decoder(inp, hidden)\n",
    "        \n",
    "        # 根据输出概率采样\n",
    "        output_dist = output.data.view(-1).div(temperature).exp()\n",
    "        top_i = torch.multinomial(output_dist, 1)[0]\n",
    "        \n",
    "        # 用上一个输出作为下一轮的输入\n",
    "        predicted_char = all_characters[top_i]\n",
    "        predicted += predicted_char\n",
    "        inp = char_tensor(predicted_char)\n",
    "\n",
    "    return predicted"
   ]
  },
  {
   "cell_type": "markdown",
   "metadata": {},
   "source": [
    "## 训练"
   ]
  },
  {
   "cell_type": "markdown",
   "metadata": {},
   "source": [
    "一些工具函数"
   ]
  },
  {
   "cell_type": "code",
   "execution_count": 8,
   "metadata": {},
   "outputs": [],
   "source": [
    "import time, math\n",
    "\n",
    "def time_since(since):\n",
    "    s = time.time() - since\n",
    "    m = math.floor(s / 60)\n",
    "    s -= m * 60\n",
    "    return '%dm %ds' % (m, s)"
   ]
  },
  {
   "cell_type": "markdown",
   "metadata": {},
   "source": [
    "训练函数："
   ]
  },
  {
   "cell_type": "code",
   "execution_count": 9,
   "metadata": {},
   "outputs": [],
   "source": [
    "def train(inp, target):\n",
    "    hidden = decoder.init_hidden()\n",
    "    decoder.zero_grad()\n",
    "    loss = 0\n",
    "\n",
    "    for c in range(chunk_len):\n",
    "        output, hidden = decoder(inp[c], hidden)\n",
    "        loss += criterion(output, target[c])\n",
    "\n",
    "    loss.backward()\n",
    "    decoder_optimizer.step()\n",
    "\n",
    "    return loss.data[0] / chunk_len"
   ]
  },
  {
   "cell_type": "markdown",
   "metadata": {},
   "source": [
    "接下来我们定义训练的参数，初始化模型，开始训练："
   ]
  },
  {
   "cell_type": "code",
   "execution_count": 10,
   "metadata": {},
   "outputs": [
    {
     "name": "stdout",
     "output_type": "stream",
     "text": [
      "[0m 18s (100 5%) 2.2827]\n",
      "Whide alill ther, mowe orr of our ha sortharest wours.\n",
      "\n",
      "BRGEUE:\n",
      "Thant ad shat wilam.\n",
      "\n",
      "NUOUTES:\n",
      "UARCGAO \n",
      "\n",
      "[0m 36s (200 10%) 2.1202]\n",
      "Why ETS: dook the fate\n",
      "att my the thou, the the thim ome git wou pexend,\n",
      "Whiters to mou go thh't sere  \n",
      "\n",
      "[0m 54s (300 15%) 2.1851]\n",
      "Which not share,\n",
      "Whart of him gand to mus to maks resonce honte soo, shath fill hir:\n",
      "Thou frospay woec \n",
      "\n",
      "[1m 11s (400 20%) 1.9829]\n",
      "Wher kince, the deece\n",
      "And here some, hy on ope gor to and onter be gread, weand;\n",
      "O man not the deared  \n",
      "\n",
      "[1m 29s (500 25%) 1.9515]\n",
      "Whis this do\n",
      "ocrise, und you dies my of my for quppent ound their the war;\n",
      "Hike bist wid a my.\n",
      "\n",
      "SENTEO \n",
      "\n",
      "[1m 47s (600 30%) 1.8638]\n",
      "Whing thear vire.\n",
      "\n",
      "DUKES,--\n",
      "Whones theen the sear coom of me.\n",
      "\n",
      "GLOUCESTER:\n",
      "Whother to thes the ficts,  \n",
      "\n",
      "[2m 5s (700 35%) 1.9786]\n",
      "When hannice not streten for and him.\n",
      "\n",
      "CLORCEO:\n",
      "Nour all heare Maalder for the herevey undies.\n",
      "\n",
      "DUKE Y \n",
      "\n",
      "[2m 23s (800 40%) 1.9238]\n",
      "Whath offees there the shoall by forth do go,\n",
      "the perunts. But the to the poonefford, wheser tam my th \n",
      "\n",
      "[2m 42s (900 45%) 2.0726]\n",
      "Whatwerangrest the\n",
      "And but 'tam god hild ours these sorvant;\n",
      "And life, for and if that thay grage,\n",
      "He  \n",
      "\n",
      "[3m 2s (1000 50%) 1.8562]\n",
      "Whiself and your bet the benterping bether with me\n",
      "In Got hired and blove mancent and and and nots, he \n",
      "\n",
      "[3m 19s (1100 55%) 1.9690]\n",
      "What your awilf;\n",
      "A ful and nat the be him.\n",
      "\n",
      "BWIA:\n",
      "Unge to will sir one mre youd many serve with the ha \n",
      "\n",
      "[3m 38s (1200 60%) 1.9697]\n",
      "Why, drings not his a suchors.\n",
      "\n",
      "KING RCULII:\n",
      "If, say to stands of the porture of cambermand,\n",
      "The vict  \n",
      "\n",
      "[3m 56s (1300 65%) 2.0558]\n",
      "Whate the consermes sorrow\n",
      "Till us the endeed may and suck my so, son in cordelf, mith never?\n",
      "\n",
      "ROMEO:\n",
      " \n",
      "\n",
      "[4m 16s (1400 70%) 1.6445]\n",
      "Which the long did not but be noble in ins, and thour be const.\n",
      "\n",
      "HARIANI:\n",
      "Wh the paling the do profrie \n",
      "\n",
      "[4m 34s (1500 75%) 1.9598]\n",
      "Whome must, tene.\n",
      "\n",
      "HORNE:\n",
      "I else, as this preethoult fene a gased we earve and ruscant,\n",
      "I stroke the d \n",
      "\n",
      "[4m 52s (1600 80%) 1.6211]\n",
      "Why, deep to mefore,\n",
      "Lome, not the reath this in he prise,\n",
      "And such no strus it ever him but to meats? \n",
      "\n",
      "[5m 9s (1700 85%) 1.8745]\n",
      "Where why go in the thank in\n",
      "Oxen in thee shear both liffore bid agors:\n",
      "I sour do ere a she morn.\n",
      "Ane  \n",
      "\n",
      "[5m 26s (1800 90%) 1.5829]\n",
      "Whall the erven, be glory\n",
      "\n",
      "Piod:\n",
      "No see with burse lovess breath\n",
      "tom no herods a gail morro, my bly an \n",
      "\n",
      "[5m 44s (1900 95%) 1.6599]\n",
      "Whus in to sower death how thou then, nobess\n",
      "Toy there of thee fience's o' the mece to show come thou  \n",
      "\n",
      "[6m 2s (2000 100%) 1.8573]\n",
      "Whus, the not whought flower\n",
      "And choth gothink!\n",
      "But wrike thy lokes to theresels,\n",
      "Where what we frensl \n",
      "\n"
     ]
    }
   ],
   "source": [
    "n_epochs = 2000\n",
    "print_every = 100\n",
    "plot_every = 10\n",
    "hidden_size = 100\n",
    "n_layers = 1\n",
    "lr = 0.005\n",
    "\n",
    "decoder = RNN(n_characters, hidden_size, n_characters, n_layers)\n",
    "decoder_optimizer = torch.optim.Adam(decoder.parameters(), lr=lr)\n",
    "criterion = nn.CrossEntropyLoss()\n",
    "\n",
    "start = time.time()\n",
    "all_losses = []\n",
    "loss_avg = 0\n",
    "\n",
    "for epoch in range(1, n_epochs + 1):\n",
    "    loss = train(*random_training_set())       \n",
    "    loss_avg += loss\n",
    "\n",
    "    if epoch % print_every == 0:\n",
    "        print('[%s (%d %d%%) %.4f]' % (time_since(start), epoch, epoch / n_epochs * 100, loss))\n",
    "        print(evaluate('Wh', 100), '\\n')\n",
    "\n",
    "    if epoch % plot_every == 0:\n",
    "        all_losses.append(loss_avg / plot_every)\n",
    "        loss_avg = 0"
   ]
  },
  {
   "cell_type": "markdown",
   "metadata": {},
   "source": [
    "## 损失变化图\n",
    "\n",
    "查看损失在训练过程中的变化有助于我们了解学习的过程。"
   ]
  },
  {
   "cell_type": "code",
   "execution_count": 11,
   "metadata": {},
   "outputs": [
    {
     "data": {
      "text/plain": [
       "[<matplotlib.lines.Line2D at 0x7f092d39fac8>]"
      ]
     },
     "execution_count": 11,
     "metadata": {},
     "output_type": "execute_result"
    },
    {
     "data": {
      "image/png": "[encoded data removed]",
      "text/plain": [
       "<matplotlib.figure.Figure at 0x7f0960a39128>"
      ]
     },
     "metadata": {},
     "output_type": "display_data"
    }
   ],
   "source": [
    "import matplotlib.pyplot as plt\n",
    "import matplotlib.ticker as ticker\n",
    "%matplotlib inline\n",
    "\n",
    "plt.figure()\n",
    "plt.plot(all_losses)"
   ]
  },
  {
   "cell_type": "markdown",
   "metadata": {},
   "source": [
    "## 测试"
   ]
  },
  {
   "cell_type": "code",
   "execution_count": 12,
   "metadata": {},
   "outputs": [
    {
     "name": "stdout",
     "output_type": "stream",
     "text": [
      "Ther\n",
      "you go what loved ancut that me to the werefered all your to they\n",
      "That the pessce, shap treed for time sok theie chator\n",
      "The vuent tere my treance her will not youe\n",
      "Which my bessin, shall brie lans \n"
     ]
    }
   ],
   "source": [
    "print(evaluate('Th', 200, temperature=0.8))"
   ]
  },
  {
   "cell_type": "code",
   "execution_count": 13,
   "metadata": {},
   "outputs": [
    {
     "name": "stdout",
     "output_type": "stream",
     "text": [
      "There the with the count the with the for the mean the with the mean:\n",
      "They with the with the with the counto the with the for the say,\n",
      "The wear the be suppers the with the with the count the with the wa\n"
     ]
    }
   ],
   "source": [
    "print(evaluate('Th', 200, temperature=0.2))"
   ]
  }
 ],
 "metadata": {
  "kernelspec": {
   "display_name": "py3-env",
   "language": "python",
   "name": "py3-env"
  },
  "language_info": {
   "codemirror_mode": {
    "name": "ipython",
    "version": 3
   },
   "file_extension": ".py",
   "mimetype": "text/x-python",
   "name": "python",
   "nbconvert_exporter": "python",
   "pygments_lexer": "ipython3",
   "version": "3.5.2"
  }
 },
 "nbformat": 4,
 "nbformat_minor": 2
}
