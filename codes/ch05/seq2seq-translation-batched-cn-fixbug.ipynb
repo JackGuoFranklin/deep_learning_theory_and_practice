{
 "cells": [
  {
   "cell_type": "markdown",
   "metadata": {},
   "source": [
    "![](https://i.imgur.com/eBRPvWB.png)\n",
    "\n",
    "# 使用seq2seq网络和注意力机制实现汉-英翻译\n",
    "\n",
    "这个项目，我们会实现一个汉语到英语的神经网络翻译模型。\n",
    "\n",
    "\n",
    "这里实现的是论文[seq2seq 网络](http://arxiv.org/abs/1409.3215)的系统，它通过两个RNN来实现把一个训练翻译成两位一个序列。Encoder把输入序列编码成一个向量，而Decoder会把这个向量解码成两位一个输出序列。\n",
    "\n",
    "为了提升效果，我们使用了[注意力机制](https://arxiv.org/abs/1409.0473)，它可以让decoder学习到在翻译的过程中怎么重点关注输入序列的某一部分。"
   ]
  },
  {
   "cell_type": "markdown",
   "metadata": {},
   "source": [
    "## sequence to sequence模型\n",
    "\n",
    "sequence to sequence模型，或者说seq2seq模型，由两个RNN组成。这两个RNN分别叫做encoder和decoder。\n",
    "encoder会一个词一个出的读入输入序列，每一步都有一个输出，而最后的输出叫做context向量，我们可以认为是模型对源语言句子“语义”的一种表示。而decoder用这个context向量一步一步的生成目标语言的句子。\n",
    "\n",
    "![](seq2seq.png)\n",
    "\n",
    "为什么要两个RNN呢，如果我们使用一个RNN，输入和输出是一对一的关系（对于分类，我们可以只使用最后一个输出），但是翻译肯定不是一个词对一个词的翻译。当然这只是使用两个RNN在形式上的方便，从“原理”上来说，人类翻译也是类似的，首先仔细阅读源语句，然后“理解”它，而所谓的“理解”在seq2seq模型里可以认为encoding的过程，然后再根据理解，翻译成目标语句。"
   ]
  },
  {
   "cell_type": "markdown",
   "metadata": {},
   "source": [
    "## 注意力机制\n",
    "\n",
    "用一个固定长度的向量来承载输入序列的完整“语义”，不管向量能有多长，都是很困难的事情。\n",
    "\n",
    "[Bahdanau et al.等人引入的](https://arxiv.org/abs/1409.0473) **注意力机制**试图这样来解决这个问题：我们不依赖于一个固定长度的向量，而是通过“注意”输入的某些部分。在decoer每一步解码的时候都通过这个机制来选择输入的一部分来重点考虑。这似乎是合乎人类的翻译过程的——我们首先通过一个encoder大致理解句子的意思（编码到一个定长向量），具体翻译某个词或者短语的时候我们会仔细推敲对应的源语言的词（注意力机制）。\n",
    "\n",
    "![](https://i.imgur.com/5y6SCvU.png)\n",
    "\n",
    "注意力是通过decoder的另外一个神经网络层来计算的。它的输入是当前输入和上一个时刻的隐状态，输出是一个新的向量，这个向量的长度和输入相同（因为输入是变长的，我们会选择一个最大的长度），这个向量会用softmax变成“概率”，得到*注意力权重*，这个权重可以认为需要花费多大的“注意力”到某个输入上，因此我们会用这个权重加权平均encoder的输出，从而得到一个新的context向量，这个向量会用来预测当前时刻的输出。\n",
    "\n",
    "![](https://i.imgur.com/K1qMPxs.png)"
   ]
  },
  {
   "cell_type": "markdown",
   "metadata": {},
   "source": [
    "## 依赖\n",
    "\n",
    "我们需要[PyTorch](http://pytorch.org/)来构建和训练模型，需要[matplotlib](https://matplotlib.org/) 来绘图，剩下的都是Python自带的库。"
   ]
  },
  {
   "cell_type": "code",
   "execution_count": 1,
   "metadata": {},
   "outputs": [],
   "source": [
    "import unicodedata\n",
    "import string\n",
    "import re\n",
    "import random\n",
    "import time\n",
    "import datetime\n",
    "import math\n",
    "import socket\n",
    "hostname = socket.gethostname()\n",
    "\n",
    "import torch\n",
    "import torch.nn as nn\n",
    "from torch.autograd import Variable\n",
    "from torch import optim\n",
    "import torch.nn.functional as F\n",
    "from torch.nn.utils.rnn import pad_packed_sequence, pack_padded_sequence#, masked_cross_entropy\n",
    "from masked_cross_entropy import *\n",
    "\n",
    "import matplotlib.pyplot as plt\n",
    "plt.rcParams[u'font.sans-serif'] = ['simhei']\n",
    "plt.rcParams['axes.unicode_minus'] = False\n",
    "import matplotlib.ticker as ticker\n",
    "import numpy as np\n",
    "%matplotlib inline"
   ]
  },
  {
   "cell_type": "markdown",
   "metadata": {},
   "source": [
    "如果没有GPU，请设置为False，但是训练时间可能会比较长。"
   ]
  },
  {
   "cell_type": "code",
   "execution_count": 2,
   "metadata": {
    "collapsed": true
   },
   "outputs": [],
   "source": [
    "USE_CUDA = True"
   ]
  },
  {
   "cell_type": "markdown",
   "metadata": {},
   "source": [
    "## 加载数据\n",
    "\n",
    "训练数据是几千个英语到汉语的平行句对。我们这里只是介绍算法，所以使用一个很小的数据集来演示。数据在data/eng-chn.txt里，格式如下：\n",
    "```\n",
    "I won!  我 赢 了 。\n",
    "```\n",
    "\n",
    "每一行都是一个句对，用tab分割，中文部分已经提前分完词了(空格分开，所以split就可以得到中文的词)。\n",
    "\n",
    "我们会用one-hot的方法来表示一个单词。"
   ]
  },
  {
   "cell_type": "markdown",
   "metadata": {},
   "source": [
    "### 单词变成数字\n",
    "\n",
    "我们会创建一个Lang对象来表示源/目标语言，它包含word2idx、idx2word和word2count，分别表示单词到id、id到单词和单词的词频。\n",
    "word2count的作用是用于过滤一些低频词（把它变成unknown）"
   ]
  },
  {
   "cell_type": "code",
   "execution_count": 3,
   "metadata": {
    "collapsed": true
   },
   "outputs": [],
   "source": [
    "#按字分词，目前不需要了。\n",
    "def seg_cn_words(s):\n",
    "    words=[]\n",
    "    for ch in s:\n",
    "        if ch !=' ':\n",
    "            words.append(ch)\n",
    "    return words"
   ]
  },
  {
   "cell_type": "code",
   "execution_count": 4,
   "metadata": {
    "collapsed": true
   },
   "outputs": [],
   "source": [
    "PAD_token = 0\n",
    "SOS_token = 1\n",
    "EOS_token = 2\n",
    "\n",
    "class Lang:\n",
    "    def __init__(self, name):\n",
    "        self.name = name\n",
    "        self.trimmed = False\n",
    "        self.word2index = {}\n",
    "        self.word2count = {}\n",
    "        self.index2word = {0: \"PAD\", 1: \"SOS\", 2: \"EOS\"}\n",
    "        self.n_words = 3 # Count default tokens\n",
    "\n",
    "    def seg_words(self, sentence):\n",
    "#        if self.name=='chn':\n",
    "#            return seg_cn_words(sentence)\n",
    "        return sentence.split(' ')\n",
    "        \n",
    "    def index_words(self, sentence):\n",
    "        words=self.seg_words(sentence)\n",
    "        for word in words:\n",
    "            self.index_word(word)\n",
    "\n",
    "    def index_word(self, word):\n",
    "        if word not in self.word2index:\n",
    "            self.word2index[word] = self.n_words\n",
    "            self.word2count[word] = 1\n",
    "            self.index2word[self.n_words] = word\n",
    "            self.n_words += 1\n",
    "        else:\n",
    "            self.word2count[word] += 1\n",
    "\n",
    "    # 删除掉频率少于阈值的此。\n",
    "    def trim(self, min_count):\n",
    "        if self.trimmed: return\n",
    "        self.trimmed = True\n",
    "        \n",
    "        keep_words = []\n",
    "        \n",
    "        for k, v in self.word2count.items():\n",
    "            if v >= min_count:\n",
    "                keep_words.append(k)\n",
    "\n",
    "        print('keep_words %s / %s = %.4f' % (\n",
    "            len(keep_words), len(self.word2index), len(keep_words) / len(self.word2index)\n",
    "        ))\n",
    "\n",
    "        # 重新构建dict\n",
    "        self.word2index = {}\n",
    "        self.word2count = {}\n",
    "        self.index2word = {0: \"PAD\", 1: \"SOS\", 2: \"EOS\"}\n",
    "        self.n_words = 3 # 默认3个词。\n",
    "\n",
    "        for word in keep_words:\n",
    "            self.index_word(word)"
   ]
  },
  {
   "cell_type": "markdown",
   "metadata": {},
   "source": [
    "### 读取和预处理 \n",
    "\n",
    "我们会只保留文本里的英文和中文字符，把大小转换成小写。"
   ]
  },
  {
   "cell_type": "code",
   "execution_count": 5,
   "metadata": {
    "collapsed": true
   },
   "outputs": [],
   "source": [
    "\n",
    "def unicode_to_ascii(s):\n",
    "    return ''.join(\n",
    "        c for c in unicodedata.normalize('NFD', s)\n",
    "        if unicodedata.category(c) != 'Mn'\n",
    "    )\n",
    "\n",
    "# 大写转小写，trim，移除常见标点，英文和中文之外的字符。\n",
    "def normalize_string(s):\n",
    "    s = unicode_to_ascii(s.lower().strip())\n",
    "    s = re.sub(r\"([,.!?])\", r\" \\1 \", s)\n",
    "    s = re.sub(r\"[^a-zA-Z\\u4e00-\\u9fa5,.!?，。！？]+\", r\" \", s)\n",
    "    s = re.sub(r\"\\s+\", r\" \", s).strip()\n",
    "    return s"
   ]
  },
  {
   "cell_type": "code",
   "execution_count": 6,
   "metadata": {},
   "outputs": [
    {
     "name": "stdout",
     "output_type": "stream",
     "text": [
      "中文word  cn!\n",
      "中文word cn !\n"
     ]
    }
   ],
   "source": [
    "s=unicode_to_ascii(\"中文word  cn!\")\n",
    "print(s)\n",
    "s=normalize_string(s)\n",
    "print(s)"
   ]
  },
  {
   "cell_type": "markdown",
   "metadata": {},
   "source": [
    "文件格式是每行一个句对，用tab分隔，第一个是英语，第二个是汉语，为了方便未来的复用，我们有一个reverse参数，这样如果我们需要汉语到英语的翻译就可以用到。如果读者想实现英语到汉英的翻译系统，那么只需要reverse为False就行。"
   ]
  },
  {
   "cell_type": "code",
   "execution_count": 7,
   "metadata": {
    "collapsed": true
   },
   "outputs": [],
   "source": [
    "def read_langs(lang1, lang2, reverse=False):\n",
    "    print(\"Reading lines...\")\n",
    "\n",
    "    # 读取文件\n",
    "    filename = '../data/%s-%s.txt' % (lang1, lang2)\n",
    "    lines = open(filename).read().strip().split('\\n')\n",
    "\n",
    "    # Split\n",
    "    pairs = [[normalize_string(s) for s in l.split('\\t')] for l in lines]\n",
    "\n",
    "    # 反转句对，从英汉变成汉英\n",
    "    if reverse:\n",
    "        pairs = [list(reversed(p)) for p in pairs]\n",
    "        input_lang = Lang(lang2)\n",
    "        output_lang = Lang(lang1)\n",
    "    else:\n",
    "        input_lang = Lang(lang1)\n",
    "        output_lang = Lang(lang2)\n",
    "\n",
    "    return input_lang, output_lang, pairs"
   ]
  },
  {
   "cell_type": "code",
   "execution_count": 8,
   "metadata": {
    "collapsed": true
   },
   "outputs": [],
   "source": [
    "MIN_LENGTH = 3\n",
    "MAX_LENGTH = 25\n",
    "\n",
    "def filter_pairs(pairs):\n",
    "    filtered_pairs = []\n",
    "    for pair in pairs:\n",
    "        if len(pair[0]) >= MIN_LENGTH and len(pair[0]) <= MAX_LENGTH \\\n",
    "            and len(pair[1]) >= MIN_LENGTH and len(pair[1]) <= MAX_LENGTH:\n",
    "                filtered_pairs.append(pair)\n",
    "    return filtered_pairs"
   ]
  },
  {
   "cell_type": "markdown",
   "metadata": {},
   "source": [
    "数据处理过程如下：\n",
    "\n",
    "* 读取文件，split成行，再split成pair\n",
    "* 文本归一化，过滤掉过短(小于3)和过长(大于25)的句对。\n",
    "* 通过pair里的句子得到单词列表\n"
   ]
  },
  {
   "cell_type": "code",
   "execution_count": 9,
   "metadata": {},
   "outputs": [
    {
     "name": "stdout",
     "output_type": "stream",
     "text": [
      "Reading lines...\n",
      "Read 19777 sentence pairs\n",
      "Filtered to 5095 pairs\n",
      "Indexing words...\n",
      "Indexed 2930 words in input language, 2258 words in output\n"
     ]
    }
   ],
   "source": [
    "def prepare_data(lang1_name, lang2_name, reverse=False):\n",
    "    input_lang, output_lang, pairs = read_langs(lang1_name, lang2_name, reverse)\n",
    "    print(\"Read %d sentence pairs\" % len(pairs))\n",
    "    \n",
    "    pairs = filter_pairs(pairs)\n",
    "    print(\"Filtered to %d pairs\" % len(pairs))\n",
    "    \n",
    "    print(\"Indexing words...\")\n",
    "    for pair in pairs:\n",
    "        input_lang.index_words(pair[0])\n",
    "        output_lang.index_words(pair[1])\n",
    "    \n",
    "    print('Indexed %d words in input language, %d words in output' % (input_lang.n_words, output_lang.n_words))\n",
    "    return input_lang, output_lang, pairs\n",
    "\n",
    "input_lang, output_lang, pairs = prepare_data('eng', 'chn', True)"
   ]
  },
  {
   "cell_type": "markdown",
   "metadata": {},
   "source": [
    "### 过滤词汇 \n",
    "\n",
    "我们会取得词频低于5的词语。对于低频的词和词典之外的词(OOV)，系统很难学习，这是学术研究的一个难点，我们暂时忽略掉这些低频词。"
   ]
  },
  {
   "cell_type": "code",
   "execution_count": 10,
   "metadata": {},
   "outputs": [
    {
     "name": "stdout",
     "output_type": "stream",
     "text": [
      "keep_words 578 / 2927 = 0.1975\n",
      "keep_words 568 / 2255 = 0.2519\n"
     ]
    }
   ],
   "source": [
    "MIN_COUNT = 5\n",
    "\n",
    "input_lang.trim(MIN_COUNT)\n",
    "output_lang.trim(MIN_COUNT)"
   ]
  },
  {
   "cell_type": "code",
   "execution_count": 11,
   "metadata": {},
   "outputs": [
    {
     "name": "stdout",
     "output_type": "stream",
     "text": [
      "chn\n"
     ]
    }
   ],
   "source": [
    "print(input_lang.name)"
   ]
  },
  {
   "cell_type": "markdown",
   "metadata": {},
   "source": [
    "### 过滤句对\n",
    "\n",
    "我们接下来去掉包含低频词或者OOV的句对。"
   ]
  },
  {
   "cell_type": "code",
   "execution_count": 12,
   "metadata": {},
   "outputs": [
    {
     "name": "stdout",
     "output_type": "stream",
     "text": [
      "Trimmed from 5095 pairs to 1854, 0.3639 of total\n"
     ]
    }
   ],
   "source": [
    "keep_pairs = []\n",
    "\n",
    "for pair in pairs:\n",
    "    input_sentence = pair[0]\n",
    "    output_sentence = pair[1]\n",
    "    keep_input = True\n",
    "    keep_output = True\n",
    "    words=input_lang.seg_words(input_sentence)\n",
    "    for word in words:\n",
    "        if word not in input_lang.word2index:\n",
    "            keep_input = False\n",
    "            break\n",
    "            \n",
    "    words=output_lang.seg_words(output_sentence)\n",
    "    for word in words:\n",
    "        if word not in output_lang.word2index:\n",
    "            keep_output = False\n",
    "            break\n",
    "\n",
    "    # Remove if pair doesn't match input and output conditions\n",
    "    if keep_input and keep_output:\n",
    "        keep_pairs.append(pair)\n",
    "\n",
    "print(\"Trimmed from %d pairs to %d, %.4f of total\" % (len(pairs), len(keep_pairs), len(keep_pairs) / len(pairs)))\n",
    "pairs = keep_pairs\n"
   ]
  },
  {
   "cell_type": "code",
   "execution_count": 13,
   "metadata": {},
   "outputs": [
    {
     "name": "stdout",
     "output_type": "stream",
     "text": [
      "['我 赢 了 。', 'i won !']\n"
     ]
    }
   ],
   "source": [
    "print(pairs[2])"
   ]
  },
  {
   "cell_type": "markdown",
   "metadata": {},
   "source": [
    "## 把训练数据变成Tensor/Variable\n",
    "\n",
    "为了让神经网络能够处理，我们首先需要把句子变成Tensor。每个句子首先分成词，每个词被替换成对应的index。另外我们会增加一个特殊的EOS来表示句子的结束。\n",
    "\n",
    "![](https://i.imgur.com/LzocpGH.png)\n",
    "\n",
    "在PyTorch里一个Tensor是一个多维数组，它的所有元素的数据类型都是一样的。我们这里使用LongTensor来表示词的index。\n",
    "\n",
    "可以训练的PyTorch模块要求输入是Variable而不是Tensor。变量除了包含Tensor的内容之外，它还会跟踪计算图的状态，从而可以进行自动梯度的求值。"
   ]
  },
  {
   "cell_type": "code",
   "execution_count": 14,
   "metadata": {
    "collapsed": true
   },
   "outputs": [],
   "source": [
    "# 把句子变成index的list，最后加上EOS\n",
    "def indexes_from_sentence(lang, sentence):\n",
    "    idxs=[]\n",
    "    words=lang.seg_words(sentence)\n",
    "    for word in words:\n",
    "        if word in lang.word2index:\n",
    "            idxs.append(lang.word2index[word])\n",
    "    idxs.append(EOS_token)\n",
    "    return idxs"
   ]
  },
  {
   "cell_type": "markdown",
   "metadata": {},
   "source": [
    "为了更好的使用GPU，我们一次训练一个batch的数据，但是问题是不同句对的长度是不一样的。解决办法是通过“pad”来把短的序列补到和长的序列一样长，我们需要一个特殊的整数来表示它是一个pad值而不是其他的词，我们这里使用0。当计算loss的时候，我们也需要把这些0对应的loss去掉（因为实际的序列到这里已经没有了，但是padding之后任何会计算出模型的预测值，从而有loss）\n",
    "\n",
    "\n",
    "![](https://i.imgur.com/gGlkEEF.png)"
   ]
  },
  {
   "cell_type": "code",
   "execution_count": 15,
   "metadata": {
    "collapsed": true
   },
   "outputs": [],
   "source": [
    "# 把一个序列padding到长度为max_length。\n",
    "def pad_seq(seq, max_length):\n",
    "    seq += [PAD_token for i in range(max_length - len(seq))]\n",
    "    return seq"
   ]
  },
  {
   "cell_type": "markdown",
   "metadata": {},
   "source": [
    "训练一次需要一个batch的数据，我们一般随机的抽取bach_size个句对，然后把它们padding到最长的序列长度。此外，我们需要记录下未padding之前的长度，因为计算loss的时候会需要用到它。\n",
    "\n",
    "我们会用list的list来初始化LongTensor，这个list的大小是batch_size，list的每个元素是一个序列(句子)。这样我们可以得到一个`(batch_size x max_len)`的Tensor，但是因为训练时我们需要逐个时刻的计算batch_size个数据，所以我们需要把它转置成`(max_len x batch_size)`。这样tensor[t]就表示t时刻的batch_size个词。\n",
    "\n",
    "\n",
    "![](https://i.imgur.com/nBxTG3v.png)"
   ]
  },
  {
   "cell_type": "code",
   "execution_count": 16,
   "metadata": {
    "collapsed": true
   },
   "outputs": [],
   "source": [
    "def random_batch(batch_size):\n",
    "    input_seqs = []\n",
    "    target_seqs = []\n",
    "\n",
    "    # 随机选择pairs\n",
    "    for i in range(batch_size):\n",
    "        pair = random.choice(pairs)\n",
    "        input_seqs.append(indexes_from_sentence(input_lang, pair[0]))\n",
    "        target_seqs.append(indexes_from_sentence(output_lang, pair[1]))\n",
    "\n",
    "    # 把输入和输出序列zip起来，通过输入的长度降序排列，然后unzip\n",
    "    seq_pairs = sorted(zip(input_seqs, target_seqs), key=lambda p: len(p[0]), reverse=True)\n",
    "    input_seqs, target_seqs = zip(*seq_pairs)\n",
    "    \n",
    "    # 对输入和输出序列都进行padding。\n",
    "    input_lengths = [len(s) for s in input_seqs]\n",
    "    input_padded = [pad_seq(s, max(input_lengths)) for s in input_seqs]\n",
    "    target_lengths = [len(s) for s in target_seqs]\n",
    "    target_padded = [pad_seq(s, max(target_lengths)) for s in target_seqs]\n",
    "\n",
    "    # padding之后的shape是(batch_size x max_len)，我们需要把它转置成(max_len x batch_size)\n",
    "    input_var = Variable(torch.LongTensor(input_padded)).transpose(0, 1)\n",
    "    target_var = Variable(torch.LongTensor(target_padded)).transpose(0, 1)\n",
    "    \n",
    "    if USE_CUDA:\n",
    "        input_var = input_var.cuda()\n",
    "        target_var = target_var.cuda()\n",
    "        \n",
    "    return input_var, input_lengths, target_var, target_lengths"
   ]
  },
  {
   "cell_type": "markdown",
   "metadata": {},
   "source": [
    "我们可以测试一下，它会返回两个`(max_len x batch_size)` tensor，这是输入和输出序列，同时也会返回padding之前的实际长度。\n"
   ]
  },
  {
   "cell_type": "code",
   "execution_count": 17,
   "metadata": {},
   "outputs": [
    {
     "data": {
      "text/plain": [
       "(Variable containing:\n",
       "   330   330\n",
       "   471    75\n",
       "   275   141\n",
       "   244    20\n",
       "   379    15\n",
       "   432   127\n",
       "   229   229\n",
       "     2     2\n",
       " [torch.cuda.LongTensor of size 8x2 (GPU 0)], [8, 8], Variable containing:\n",
       "   300   300\n",
       "    41   527\n",
       "    34   465\n",
       "   210   542\n",
       "   234   361\n",
       "     2   234\n",
       "     0     2\n",
       " [torch.cuda.LongTensor of size 7x2 (GPU 0)], [6, 7])"
      ]
     },
     "execution_count": 17,
     "metadata": {},
     "output_type": "execute_result"
    }
   ],
   "source": [
    "random_batch(2)"
   ]
  },
  {
   "cell_type": "markdown",
   "metadata": {},
   "source": [
    "# 构建模型"
   ]
  },
  {
   "cell_type": "markdown",
   "metadata": {},
   "source": [
    "## Encoder\n",
    "\n",
    "<img src=\"images/encoder-network.png\" style=\"float: right\" />\n",
    "\n",
    "\n",
    "encoder的输入是batch大小的词序列——大小是`(max_len x batch_size)``LongTensor`，每个词都会输出一个向量，所以最终的输出是大小为  `(max_len x batch_size x hidden_size)`的`FloatTensor`。\n",
    "\n",
    "输入序列的词会被fed到一个[embedding层 `nn.Embedding`](http://pytorch.org/docs/nn.html#embedding)从而得到每个词的embedding，这样得到一个`(max_len x batch_size x embedding_size【这里embedding_size==hidden_size，但这不是必须相等的】)`的Tensor，这个Tensor会输入到[GRU层 `nn.GRU`](http://pytorch.org/docs/nn.html#gru)。最终GRU的输出是`seq_len x batch_size x hidden_size`。"
   ]
  },
  {
   "cell_type": "code",
   "execution_count": 18,
   "metadata": {
    "collapsed": true
   },
   "outputs": [],
   "source": [
    "class EncoderRNN(nn.Module):\n",
    "    def __init__(self, input_size, hidden_size, n_layers=1, dropout=0.1):\n",
    "        super(EncoderRNN, self).__init__()\n",
    "        \n",
    "        self.input_size = input_size\n",
    "        self.hidden_size = hidden_size\n",
    "        self.n_layers = n_layers\n",
    "        self.dropout = dropout\n",
    "        \n",
    "        self.embedding = nn.Embedding(input_size, hidden_size)\n",
    "        self.gru = nn.GRU(hidden_size, hidden_size, n_layers, dropout=self.dropout, bidirectional=True)\n",
    "        \n",
    "    def forward(self, input_seqs, input_lengths, hidden=None):\n",
    "        # 注意：和前面的实现不同，这里没有时刻t的for循环，而是一次输入GRU直接计算出来\n",
    "        embedded = self.embedding(input_seqs)\n",
    "        packed = torch.nn.utils.rnn.pack_padded_sequence(embedded, input_lengths)\n",
    "        outputs, hidden = self.gru(packed, hidden)\n",
    "        outputs, output_lengths = torch.nn.utils.rnn.pad_packed_sequence(outputs) # unpack\n",
    "        hidden = self._cat_directions(hidden)\n",
    "        return outputs, hidden\n",
    "    \n",
    "    def _cat_directions(self, hidden):\n",
    "        \"\"\" If the encoder is bidirectional, do the following transformation.\n",
    "            Ref: https://github.com/IBM/pytorch-seq2seq/blob/master/seq2seq/models/DecoderRNN.py#L176\n",
    "            -----------------------------------------------------------\n",
    "            In: (num_layers * num_directions, batch_size, hidden_size)\n",
    "            (ex: num_layers=2, num_directions=2)\n",
    "\n",
    "            layer 1: forward__hidden(1)\n",
    "            layer 1: backward_hidden(1)\n",
    "            layer 2: forward__hidden(2)\n",
    "            layer 2: backward_hidden(2)\n",
    "\n",
    "            -----------------------------------------------------------\n",
    "            Out: (num_layers, batch_size, hidden_size * num_directions)\n",
    "\n",
    "            layer 1: forward__hidden(1) backward_hidden(1)\n",
    "            layer 2: forward__hidden(2) backward_hidden(2)\n",
    "        \"\"\"\n",
    "        def _cat(h):\n",
    "            return torch.cat([h[0:h.size(0):2], h[1:h.size(0):2]], 2)\n",
    "            \n",
    "        if isinstance(hidden, tuple):\n",
    "            # LSTM hidden contains a tuple (hidden state, cell state)\n",
    "            hidden = tuple([_cat(h) for h in hidden])\n",
    "        else:\n",
    "            # GRU hidden\n",
    "            hidden = _cat(hidden)\n",
    "            \n",
    "        return hidden    "
   ]
  },
  {
   "cell_type": "markdown",
   "metadata": {},
   "source": [
    "## Attention Decoder"
   ]
  },
  {
   "cell_type": "markdown",
   "metadata": {},
   "source": [
    "### 理解Bahdanau等人提出的模型\n",
    "\n",
    "下面我们来学习一下这篇文章提出的 [Neural Machine Translation by Jointly Learning to Align and Translate](https://arxiv.org/abs/1409.0473) Attention Decoder。\n",
    "\n",
    "decoder在每一个时刻的输出依赖与前一个时刻的输出和一个$\\mathbf x$，这个$\\mathbf x$包括当前的隐状态（它也会考虑前一个时刻的输出）和一个注意力”context“，下文会介绍它。函数$g$是一个带非线性激活的全连接层，它的输入是$y_{i-1}$, $s_i$ 和 $c_i$拼接起来的。\n",
    "\n",
    "$$\n",
    "p(y_i \\mid \\{y_1,...,y_{i-1}\\},\\mathbf{x}) = g(y_{i-1}, s_i, c_i)\n",
    "$$\n",
    "\n",
    "上式的意思是：我们在翻译当前词时只考虑上一个翻译出来的词以及当前的隐状态和注意力context。\n",
    "\n",
    "当前隐状态$s_i$是有RNN $f$计算出来的，这个RNN的输入是上一个隐状态$s_{i-1}$，decoder的上一个输出$y_{i-1}$和 context向量$c_i$。\n",
    "\n",
    "在代码实现中，我们使用的RNN是`nn.GRU`，隐状态 $s_i$是`hidden`，输出$y_i$是`output`， context $c_i$ 是`context`。\n",
    "\n",
    "$$\n",
    "s_i = f(s_{i-1}, y_{i-1}, c_i)\n",
    "$$\n",
    "\n",
    "context向量$c_i$是encoder在每个时刻(词)的输出的加权和，而权值$a_{ij}$表示i时刻需要关注$h_j$的程度(概率)。\n",
    "\n",
    "$$\n",
    "c_i = \\sum_{j=1}^{T_x} a_{ij} h_j\n",
    "$$\n",
    "\n",
    "而权值$a_{ij}$是\"能量\" $e_{ij}$的softmax。\n",
    "\n",
    "$$\n",
    "a_{ij} = \\dfrac{exp(e_{ij})}{\\sum_{k=1}^{T} exp(e_{ik})}\n",
    "$$\n",
    "\n",
    "而能量$e_{ij}$是上个时刻的隐状态$s_{i-1}$和encoder第j个时刻的输出$h_j$的函数：\n",
    "\n",
    "$$\n",
    "e_{ij} = a(s_{i-1}, h_j)\n",
    "$$"
   ]
  },
  {
   "cell_type": "markdown",
   "metadata": {},
   "source": [
    "### Luong等人提出的模型"
   ]
  },
  {
   "cell_type": "markdown",
   "metadata": {},
   "source": [
    "Luong等人在[Effective Approaches to Attention-based Neural Machine Translation](https://arxiv.org/abs/1508.04025)提出了更多的提高和简化。他们描述了”全局注意力“模型，其计算注意力得分的方法和之前不同。前面是通过$s_{i-1}$和$h_j$计算$a_{ij}$，也就是当前的注意力权重依赖与前一个状态，而这里的注意力依赖与decoder当前的隐状态和encoder所有隐状态：\n",
    "\n",
    "$$\n",
    "a_t(s) = align(h_t, \\bar h_s)  = \\dfrac{exp(score(h_t, \\bar h_s))}{\\sum_{s'} exp(score(h_t, \\bar h_{s'}))}\n",
    "$$\n",
    "\n",
    "特点的\"score\"函数会比较两个隐状态的”相似度“，可以是两个向量的内积，也可以是$h_{s'}$做一个线性变换之后和$h_t$的内积，也可以是把两个向量拼接起来然后做一个线性变换，然后和一个参数$v_a$（这个参数是学习出来的）的内积：\n",
    "\n",
    "$$\n",
    "score(h_t, \\bar h_s) =\n",
    "\\begin{cases}\n",
    "h_t ^\\top \\bar h_s & dot \\\\\n",
    "h_t ^\\top \\textbf{W}_a \\bar h_s & general \\\\\n",
    "v_a ^\\top \\textbf{W}_a [ h_t ; \\bar h_s ] & concat\n",
    "\\end{cases}\n",
    "$$\n",
    "\n",
    "scoring函数的模块化定义使得我们可以随意的修改而不影响其它地方的代码。这个模块的输入总是decoder的隐状态和encoder的所有输出。"
   ]
  },
  {
   "cell_type": "markdown",
   "metadata": {},
   "source": [
    "### 计算注意力的通用模块\n",
    "\n",
    "为了代码重用，这里把注意力的计算封装成一个模块，不管是哪个算法都可以复用它。"
   ]
  },
  {
   "cell_type": "code",
   "execution_count": 19,
   "metadata": {
    "collapsed": true
   },
   "outputs": [],
   "source": [
    "class Attn(nn.Module):\n",
    "    def __init__(self, method, hidden_size):\n",
    "        super(Attn, self).__init__()\n",
    "        \n",
    "        self.method = method\n",
    "        self.hidden_size = hidden_size\n",
    "        \n",
    "        if self.method == 'general':\n",
    "            self.attn = nn.Linear(self.hidden_size*2, hidden_size*2)\n",
    "\n",
    "        elif self.method == 'concat':\n",
    "            self.attn = nn.Linear(self.hidden_size * 2, hidden_size)\n",
    "            self.v = nn.Parameter(torch.FloatTensor(1, hidden_size))\n",
    "\n",
    "    def forward(self, hidden, encoder_outputs):\n",
    "        max_len = encoder_outputs.size(0)\n",
    "        this_batch_size = encoder_outputs.size(1)\n",
    "\n",
    "        # 创建变量来存储注意力能量\n",
    "        attn_energies = Variable(torch.zeros(this_batch_size, max_len)) # B x S\n",
    "\n",
    "        if USE_CUDA:\n",
    "            attn_energies = attn_energies.cuda()\n",
    "\n",
    "        # 计算\n",
    "        for b in range(this_batch_size):\n",
    "            for i in range(max_len):\n",
    "                attn_energies[b, i] = self.score(hidden[:, b], encoder_outputs[i, b].unsqueeze(0))\n",
    "\n",
    "        # softmax并且resize成1 x B x S\n",
    "        return F.softmax(attn_energies).unsqueeze(1)\n",
    "    \n",
    "    def score(self, hidden, encoder_output):\n",
    "        \n",
    "        if self.method == 'dot':\n",
    "            energy = hidden.dot(encoder_output)\n",
    "            return energy\n",
    "        \n",
    "        elif self.method == 'general':\n",
    "            energy = self.attn(encoder_output)\n",
    "            energy = hidden.dot(energy)\n",
    "            return energy\n",
    "        \n",
    "        elif self.method == 'concat':\n",
    "            energy = self.attn(torch.cat((hidden, encoder_output), 1))\n",
    "            energy = self.v.dot(energy)\n",
    "            return energy"
   ]
  },
  {
   "cell_type": "markdown",
   "metadata": {},
   "source": [
    "现在我们可以构建一个decoder，它会把Attn模块放到RNN之后用来计算注意力的权重，并且用它来计算context向量。"
   ]
  },
  {
   "cell_type": "code",
   "execution_count": 20,
   "metadata": {
    "collapsed": true
   },
   "outputs": [],
   "source": [
    "class LuongAttnDecoderRNN(nn.Module):\n",
    "    def __init__(self, attn_model, hidden_size, output_size, n_layers=1, dropout=0.1):\n",
    "        super(LuongAttnDecoderRNN, self).__init__()\n",
    "\n",
    "        # 保存变量\n",
    "        self.attn_model = attn_model\n",
    "        self.hidden_size = hidden_size\n",
    "        self.output_size = output_size\n",
    "        self.n_layers = n_layers\n",
    "        self.dropout = dropout\n",
    "\n",
    "        # 定义网络层\n",
    "        self.embedding = nn.Embedding(output_size, hidden_size)\n",
    "        self.embedding_dropout = nn.Dropout(dropout)\n",
    "        self.gru = nn.GRU(hidden_size, hidden_size*2, n_layers, dropout=dropout)\n",
    "        self.concat = nn.Linear(hidden_size * 4, hidden_size)\n",
    "        self.out = nn.Linear(hidden_size, output_size)\n",
    "        \n",
    "        # 选择注意力计算方法\n",
    "        if attn_model != 'none':\n",
    "            self.attn = Attn(attn_model, hidden_size)\n",
    "\n",
    "    def forward(self, input_seq, last_hidden, encoder_outputs):\n",
    "        # 注意：我们encoder一次计算所有时刻的数据，但是decoder我们目前还是一次计算一个时刻的（但是是一个batch）\n",
    "        # 因为Teacher Forcing可以一次计算但是Random Sample必须逐个计算\n",
    "        # 得到当前输入的embedding \n",
    "        batch_size = input_seq.size(0)\n",
    "        embedded = self.embedding(input_seq)\n",
    "        embedded = self.embedding_dropout(embedded)\n",
    "        embedded = embedded.view(1, batch_size, self.hidden_size) # S=1 x B x N\n",
    "\n",
    "        # 计算gru的输出和新的隐状态，输入是当前词的embedding和之前的隐状态。\n",
    "        rnn_output, hidden = self.gru(embedded, last_hidden)\n",
    "        \n",
    "        \n",
    "        # 根据当前的RNN状态和encoder的输出计算注意力。\n",
    "        # 根据注意力计算context向量 \n",
    "        attn_weights = self.attn(rnn_output, encoder_outputs)\n",
    "        context = attn_weights.bmm(encoder_outputs.transpose(0, 1)) # B x S=1 x N\n",
    "\n",
    "        # 把gru的输出和context vector拼接起来\n",
    "        rnn_output = rnn_output.squeeze(0) # S=1 x B x N -> B x N\n",
    "        context = context.squeeze(1)       # B x S=1 x N -> B x N\n",
    "        concat_input = torch.cat((rnn_output, context), 1)\n",
    "        concat_output = F.tanh(self.concat(concat_input))\n",
    "\n",
    "        # 预测下一个token，这里没有softmax，只有计算loss的时候才需要。\n",
    "        output = self.out(concat_output)\n",
    "\n",
    "        # 返回最终的输出，GRU的隐状态和attetion（用于可视化）\n",
    "        return output, hidden, attn_weights"
   ]
  },
  {
   "cell_type": "markdown",
   "metadata": {},
   "source": [
    "## 测试模型\n",
    "\n",
    "为了初步验证上面的代码是否正确，我们用少量的数据来跑一下。"
   ]
  },
  {
   "cell_type": "code",
   "execution_count": 21,
   "metadata": {
    "scrolled": false
   },
   "outputs": [
    {
     "name": "stdout",
     "output_type": "stream",
     "text": [
      "input_batches torch.Size([8, 3])\n",
      "target_batches torch.Size([8, 3])\n"
     ]
    }
   ],
   "source": [
    "small_batch_size = 3\n",
    "input_batches, input_lengths, target_batches, target_lengths = random_batch(small_batch_size)\n",
    "\n",
    "print('input_batches', input_batches.size()) # (max_len x batch_size)\n",
    "print('target_batches', target_batches.size()) # (max_len x batch_size)"
   ]
  },
  {
   "cell_type": "markdown",
   "metadata": {},
   "source": [
    "创建一个较小的模型用来验证代码"
   ]
  },
  {
   "cell_type": "code",
   "execution_count": 22,
   "metadata": {
    "collapsed": true
   },
   "outputs": [],
   "source": [
    "small_hidden_size = 8\n",
    "small_n_layers = 2\n",
    "\n",
    "encoder_test = EncoderRNN(input_lang.n_words, small_hidden_size, small_n_layers)\n",
    "decoder_test = LuongAttnDecoderRNN('general', small_hidden_size, output_lang.n_words, small_n_layers)\n",
    "\n",
    "if USE_CUDA:\n",
    "    encoder_test.cuda()\n",
    "    decoder_test.cuda()"
   ]
  },
  {
   "cell_type": "markdown",
   "metadata": {},
   "source": [
    "测试encoder"
   ]
  },
  {
   "cell_type": "code",
   "execution_count": 23,
   "metadata": {},
   "outputs": [
    {
     "name": "stdout",
     "output_type": "stream",
     "text": [
      "encoder_outputs torch.Size([8, 3, 16])\n",
      "encoder_hidden torch.Size([2, 3, 16])\n"
     ]
    }
   ],
   "source": [
    "encoder_outputs, encoder_hidden = encoder_test(input_batches, input_lengths, None)\n",
    "\n",
    "print('encoder_outputs', encoder_outputs.size()) # max_len x batch_size x hidden_size\n",
    "print('encoder_hidden', encoder_hidden.size()) # n_layers * 2 x batch_size x hidden_size"
   ]
  },
  {
   "cell_type": "markdown",
   "metadata": {},
   "source": [
    "然后我们从SOS开始，然后用decoder来逐个解码。和encoder不同，encoder是一次处理整个序列，但是decoder必须逐个解码，因为在预测（或者random sampling时）都必须把上一个时刻的输出作为当前时刻的输入。所以前一个时刻没有处理完是没有办法处理下一个时刻的数据的。不过我们仍然是一次处理一个batch的数据的，比如之前的效率还是会提高。\n"
   ]
  },
  {
   "cell_type": "code",
   "execution_count": 24,
   "metadata": {
    "scrolled": false
   },
   "outputs": [
    {
     "name": "stdout",
     "output_type": "stream",
     "text": [
      "loss 6.295614719390869\n"
     ]
    },
    {
     "name": "stderr",
     "output_type": "stream",
     "text": [
      "/home/lili/tf1.5-py3/lib/python3.5/site-packages/ipykernel_launcher.py:31: UserWarning: Implicit dimension choice for softmax has been deprecated. Change the call to include dim=X as an argument.\n"
     ]
    }
   ],
   "source": [
    "max_target_length = max(target_lengths)\n",
    "\n",
    "# decoder的第一个输入是SOS\n",
    "decoder_input = Variable(torch.LongTensor([SOS_token] * small_batch_size))\n",
    "decoder_hidden = encoder_hidden # 把第一层的encoder的输出作为decoder的输入。\n",
    "all_decoder_outputs = Variable(torch.zeros(max_target_length, small_batch_size, decoder_test.output_size))\n",
    "\n",
    "if USE_CUDA:\n",
    "    all_decoder_outputs = all_decoder_outputs.cuda()\n",
    "    decoder_input = decoder_input.cuda()\n",
    "\n",
    "# 遍历Run through decoder one time step at a time\n",
    "for t in range(max_target_length):\n",
    "    decoder_output, decoder_hidden, decoder_attn = decoder_test(\n",
    "        decoder_input, decoder_hidden, encoder_outputs\n",
    "    )\n",
    "    all_decoder_outputs[t] = decoder_output # Store this step's outputs\n",
    "    decoder_input = target_batches[t] # Next input is current target\n",
    "\n",
    "# 通过mask计算交叉熵\n",
    "loss = masked_cross_entropy(\n",
    "    all_decoder_outputs.transpose(0, 1).contiguous(),\n",
    "    target_batches.transpose(0, 1).contiguous(),\n",
    "    target_lengths,\n",
    "    USE_CUDA\n",
    ")\n",
    "print('loss', loss.data[0])"
   ]
  },
  {
   "cell_type": "markdown",
   "metadata": {},
   "source": [
    "\n",
    "## 训练\n",
    "\n",
    "### 一次训练\n",
    "\n",
    "对于一个训练数据，我们首先用encoder对输入句子进行编码，得到每个时刻的输出和最后一个时刻的隐状态。最后一个隐状态会作为decoder隐状态的初始值，并且我们会用一个特殊的`<SOS>`作为decoder的第一个输入。\n"
   ]
  },
  {
   "cell_type": "code",
   "execution_count": 25,
   "metadata": {
    "collapsed": true
   },
   "outputs": [],
   "source": [
    "def train(input_batches, input_lengths, target_batches, target_lengths, encoder, decoder, \n",
    "          encoder_optimizer, decoder_optimizer, criterion, max_length=MAX_LENGTH):\n",
    "    \n",
    "    # 梯度清空\n",
    "    encoder_optimizer.zero_grad()\n",
    "    decoder_optimizer.zero_grad()\n",
    "    loss = 0 # Added onto for each word\n",
    "\n",
    "    # 进行encoding\n",
    "    encoder_outputs, encoder_hidden = encoder(input_batches, input_lengths, None)\n",
    "    \n",
    "    # 准备输入和输出变量\n",
    "    decoder_input = Variable(torch.LongTensor([SOS_token] * batch_size))\n",
    "    decoder_hidden = encoder_hidden\n",
    "    #decoder_hidden = decoder_hidden.contiguous()\n",
    "    \n",
    "    max_target_length = max(target_lengths)\n",
    "    all_decoder_outputs = Variable(torch.zeros(max_target_length, batch_size, decoder.output_size))\n",
    "\n",
    "\n",
    "    if USE_CUDA:\n",
    "        decoder_input = decoder_input.cuda()\n",
    "        all_decoder_outputs = all_decoder_outputs.cuda()\n",
    "\n",
    "    # 解码\n",
    "    for t in range(max_target_length):\n",
    "        decoder_output, decoder_hidden, decoder_attn = decoder(\n",
    "            decoder_input, decoder_hidden, encoder_outputs\n",
    "        )\n",
    "\n",
    "        all_decoder_outputs[t] = decoder_output\n",
    "        decoder_input = target_batches[t] # 当前输出是下一个时刻的输入。\n",
    "\n",
    "    # 计算loss和反向计算梯度\n",
    "    loss = masked_cross_entropy(\n",
    "        all_decoder_outputs.transpose(0, 1).contiguous(), # -> batch x seq\n",
    "        target_batches.transpose(0, 1).contiguous(), # -> batch x seq\n",
    "        target_lengths,\n",
    "        USE_CUDA\n",
    "    )\n",
    "    loss.backward()\n",
    "    \n",
    "    # clip梯度\n",
    "    ec = torch.nn.utils.clip_grad_norm(encoder.parameters(), clip)\n",
    "    dc = torch.nn.utils.clip_grad_norm(decoder.parameters(), clip)\n",
    "\n",
    "    # 更新参数\n",
    "    encoder_optimizer.step()\n",
    "    decoder_optimizer.step()\n",
    "    \n",
    "    return loss.data[0], ec, dc"
   ]
  },
  {
   "cell_type": "markdown",
   "metadata": {},
   "source": [
    "## Running training\n",
    "\n",
    "With everything in place we can actually initialize a network and start training.\n",
    "\n",
    "To start, we initialize models, optimizers, a loss function (criterion), and set up variables for plotting and tracking progress:"
   ]
  },
  {
   "cell_type": "code",
   "execution_count": 26,
   "metadata": {},
   "outputs": [],
   "source": [
    "# 模型的配置\n",
    "attn_model = 'dot'\n",
    "hidden_size = 500\n",
    "n_layers = 2\n",
    "dropout = 0.1\n",
    "batch_size = 100\n",
    "\n",
    "# 训练的超参数\n",
    "clip = 50.0\n",
    "teacher_forcing_ratio = 0.5\n",
    "learning_rate = 0.0001\n",
    "decoder_learning_ratio = 5.0\n",
    "n_epochs = 50000\n",
    "epoch = 0\n",
    "plot_every = 20\n",
    "print_every = 100\n",
    "evaluate_every = 1000\n",
    "\n",
    "# 初始化模型\n",
    "encoder = EncoderRNN(input_lang.n_words, hidden_size, n_layers, dropout=dropout)\n",
    "decoder = LuongAttnDecoderRNN(attn_model, hidden_size, output_lang.n_words, n_layers, dropout=dropout)\n",
    "\n",
    "# 初始化optimizers和criterion\n",
    "encoder_optimizer = optim.Adam(encoder.parameters(), lr=learning_rate)\n",
    "decoder_optimizer = optim.Adam(decoder.parameters(), lr=learning_rate * decoder_learning_ratio)\n",
    "criterion = nn.CrossEntropyLoss()\n",
    "\n",
    "# 把模型放到GPU上\n",
    "if USE_CUDA:\n",
    "    encoder.cuda()\n",
    "    decoder.cuda()\n",
    "\n",
    "# 计时\n",
    "start = time.time()\n",
    "plot_losses = []\n",
    "print_loss_total = 0 # 每过print_every次清零\n",
    "plot_loss_total = 0 # 没过plot_every次清零"
   ]
  },
  {
   "cell_type": "markdown",
   "metadata": {},
   "source": [
    "一些工具函数"
   ]
  },
  {
   "cell_type": "code",
   "execution_count": 27,
   "metadata": {
    "collapsed": true
   },
   "outputs": [],
   "source": [
    "def as_minutes(s):\n",
    "    m = math.floor(s / 60)\n",
    "    s -= m * 60\n",
    "    return '%dm %ds' % (m, s)\n",
    "\n",
    "def time_since(since, percent):\n",
    "    now = time.time()\n",
    "    s = now - since\n",
    "    es = s / (percent)\n",
    "    rs = es - s\n",
    "    return '%s (- %s)' % (as_minutes(s), as_minutes(rs))"
   ]
  },
  {
   "cell_type": "markdown",
   "metadata": {},
   "source": [
    "## 预测(翻译)\n"
   ]
  },
  {
   "cell_type": "code",
   "execution_count": 28,
   "metadata": {
    "collapsed": true
   },
   "outputs": [],
   "source": [
    "def evaluate(input_seq, max_length=MAX_LENGTH):\n",
    "    input_seqs = [indexes_from_sentence(input_lang, input_seq)]\n",
    "    input_lengths=[len(sen) for sen in input_seqs]\n",
    "    input_batches = Variable(torch.LongTensor(input_seqs), volatile=True).transpose(0, 1)\n",
    "    \n",
    "    if USE_CUDA:\n",
    "        input_batches = input_batches.cuda()\n",
    "        \n",
    "    # 预测的时候不需要更新参数\n",
    "    encoder.train(False)\n",
    "    decoder.train(False)\n",
    "    \n",
    "    # encoding\n",
    "    encoder_outputs, encoder_hidden = encoder(input_batches, input_lengths, None)\n",
    "\n",
    "    # 创建开始的SOS\n",
    "    decoder_input = Variable(torch.LongTensor([SOS_token]), volatile=True) # SOS\n",
    "    decoder_hidden = encoder_hidden\n",
    "    #decoder_hidden = decoder_hidden.contiguous()\n",
    "    \n",
    "    if USE_CUDA:\n",
    "        decoder_input = decoder_input.cuda()\n",
    "\n",
    "    # Store output words and attention states\n",
    "    decoded_words = []\n",
    "    decoder_attentions = torch.zeros(max_length + 1, max_length + 1)\n",
    "    \n",
    "    # Run through decoder\n",
    "    for di in range(max_length):\n",
    "        decoder_output, decoder_hidden, decoder_attention = decoder(\n",
    "            decoder_input, decoder_hidden, encoder_outputs\n",
    "        )\n",
    "        decoder_attentions[di,:decoder_attention.size(2)] += decoder_attention.squeeze(0).squeeze(0).cpu().data\n",
    "\n",
    "        # Choose top word from output\n",
    "        topv, topi = decoder_output.data.topk(1)\n",
    "        ni = topi[0][0]\n",
    "        if ni == EOS_token:\n",
    "            decoded_words.append('<EOS>')\n",
    "            break\n",
    "        else:\n",
    "            decoded_words.append(output_lang.index2word[ni])\n",
    "            \n",
    "        # Next input is chosen word\n",
    "        decoder_input = Variable(torch.LongTensor([ni]))\n",
    "        if USE_CUDA: decoder_input = decoder_input.cuda()\n",
    "\n",
    "    # Set back to training mode\n",
    "    encoder.train(True)\n",
    "    decoder.train(True)\n",
    "    \n",
    "    return decoded_words, decoder_attentions[:di+1, :len(encoder_outputs)]"
   ]
  },
  {
   "cell_type": "markdown",
   "metadata": {},
   "source": [
    "We can evaluate random sentences from the training set and print out the input, target, and output to make some subjective quality judgements:"
   ]
  },
  {
   "cell_type": "code",
   "execution_count": 29,
   "metadata": {
    "collapsed": true
   },
   "outputs": [],
   "source": [
    "def evaluate_randomly():\n",
    "    [input_sentence, target_sentence] = random.choice(pairs)\n",
    "    evaluate_and_show_attention(input_sentence, target_sentence)"
   ]
  },
  {
   "cell_type": "markdown",
   "metadata": {},
   "source": [
    "# 注意力的可视化\n",
    "\n",
    "注意力机制的一个优点是它的输出的可解释性。因为它在decode每一步都会对所以输入赋予不同的权重，因此我们可以认为它在翻译这个词的时候”对应“了源语言的词的权重，这可以认为是一种对齐。"
   ]
  },
  {
   "cell_type": "code",
   "execution_count": 30,
   "metadata": {},
   "outputs": [],
   "source": [
    "import io\n",
    "import torchvision\n",
    "from PIL import Image\n",
    "import visdom\n",
    "vis = visdom.Visdom()\n",
    "\n",
    "def show_plot_visdom():\n",
    "    buf = io.BytesIO()\n",
    "    plt.savefig(buf)\n",
    "    buf.seek(0)\n",
    "    attn_win = 'attention (%s)' % hostname\n",
    "    vis.image(torchvision.transforms.ToTensor()(Image.open(buf)), win=attn_win, opts={'title': attn_win})"
   ]
  },
  {
   "cell_type": "markdown",
   "metadata": {},
   "source": [
    "为了更好的可视化效果，我们下面设置colorbar和axes"
   ]
  },
  {
   "cell_type": "code",
   "execution_count": 31,
   "metadata": {
    "collapsed": true
   },
   "outputs": [],
   "source": [
    "def show_attention(input_sentence, output_words, attentions):\n",
    "    # Set up figure with colorbar\n",
    "    fig = plt.figure()\n",
    "    ax = fig.add_subplot(111)\n",
    "    cax = ax.matshow(attentions.numpy(), cmap='bone')\n",
    "    fig.colorbar(cax)\n",
    "\n",
    "    # Set up axes\n",
    "    words=input_lang.seg_words(input_sentence)\n",
    "    ax.set_xticklabels([''] + words + ['<EOS>'])\n",
    "    ax.set_yticklabels([''] + output_words)\n",
    "\n",
    "    # Show label at every tick\n",
    "    ax.xaxis.set_major_locator(ticker.MultipleLocator(1))\n",
    "    ax.yaxis.set_major_locator(ticker.MultipleLocator(1))\n",
    "\n",
    "    show_plot_visdom()\n",
    "    plt.show()\n",
    "    plt.close()"
   ]
  },
  {
   "cell_type": "code",
   "execution_count": 32,
   "metadata": {
    "collapsed": true
   },
   "outputs": [],
   "source": [
    "def evaluate_and_show_attention(input_sentence, target_sentence=None):\n",
    "    output_words, attentions = evaluate(input_sentence)\n",
    "    output_sentence = ' '.join(output_words)\n",
    "    print('>', input_sentence)\n",
    "    if target_sentence is not None:\n",
    "        print('=', target_sentence)\n",
    "    print('<', output_sentence)\n",
    "    \n",
    "    show_attention(input_sentence, output_words, attentions)\n",
    "    \n",
    "    # Show input, target, output text in visdom\n",
    "    win = 'evaluted (%s)' % hostname\n",
    "    text = '<p>&gt; %s</p><p>= %s</p><p>&lt; %s</p>' % (input_sentence, target_sentence, output_sentence)\n",
    "    vis.text(text, win=win, opts={'title': win})"
   ]
  },
  {
   "cell_type": "markdown",
   "metadata": {},
   "source": [
    "# 放到一起\n",
    "\n",
    "接下来就是开始训练了，注意需要在先运行 python -m visdom.server"
   ]
  },
  {
   "cell_type": "markdown",
   "metadata": {},
   "source": []
  },
  {
   "cell_type": "code",
   "execution_count": 33,
   "metadata": {
    "scrolled": false
   },
   "outputs": [
    {
     "name": "stderr",
     "output_type": "stream",
     "text": [
      "/home/lili/tf1.5-py3/lib/python3.5/site-packages/ipykernel_launcher.py:31: UserWarning: Implicit dimension choice for softmax has been deprecated. Change the call to include dim=X as an argument.\n"
     ]
    },
    {
     "name": "stdout",
     "output_type": "stream",
     "text": [
      "3m 0s (- 1504m 0s) (100 0%) 3.2140\n",
      "6m 7s (- 1523m 37s) (200 0%) 1.6993\n",
      "9m 11s (- 1523m 3s) (300 0%) 0.8486\n",
      "12m 11s (- 1512m 32s) (400 0%) 0.3999\n",
      "15m 12s (- 1505m 39s) (500 1%) 0.2001\n",
      "18m 18s (- 1507m 50s) (600 1%) 0.1170\n",
      "21m 22s (- 1505m 25s) (700 1%) 0.0748\n",
      "24m 24s (- 1500m 47s) (800 1%) 0.0559\n",
      "27m 26s (- 1497m 19s) (900 1%) 0.0497\n",
      "30m 31s (- 1495m 49s) (1000 2%) 0.0408\n",
      "> 我们 正在 吃 苹果 。\n",
      "= we re eating apples .\n",
      "< we re eating apples . <EOS>\n"
     ]
    },
    {
     "data": {
      "image/png": "[encoded data removed]",
      "text/plain": [
       "<Figure size 432x288 with 2 Axes>"
      ]
     },
     "metadata": {},
     "output_type": "display_data"
    },
    {
     "name": "stdout",
     "output_type": "stream",
     "text": [
      "33m 39s (- 1496m 16s) (1100 2%) 0.0357\n",
      "36m 43s (- 1493m 23s) (1200 2%) 0.0353\n",
      "39m 48s (- 1491m 11s) (1300 2%) 0.0340\n",
      "42m 54s (- 1489m 19s) (1400 2%) 0.0509\n",
      "46m 2s (- 1488m 34s) (1500 3%) 0.0526\n",
      "49m 6s (- 1485m 32s) (1600 3%) 0.0434\n",
      "52m 10s (- 1482m 28s) (1700 3%) 0.0306\n",
      "55m 13s (- 1478m 55s) (1800 3%) 0.0280\n",
      "58m 20s (- 1476m 45s) (1900 3%) 0.0264\n",
      "61m 25s (- 1474m 21s) (2000 4%) 0.0260\n",
      "> 他们 没 看见 我们 。\n",
      "= they didn t see us .\n",
      "< they didn t see us . <EOS>\n"
     ]
    },
    {
     "data": {
      "image/png": "[encoded data removed]",
      "text/plain": [
       "<Figure size 432x288 with 2 Axes>"
      ]
     },
     "metadata": {},
     "output_type": "display_data"
    },
    {
     "name": "stdout",
     "output_type": "stream",
     "text": [
      "64m 29s (- 1471m 2s) (2100 4%) 0.0245\n",
      "67m 34s (- 1468m 6s) (2200 4%) 0.0244\n",
      "70m 36s (- 1464m 22s) (2300 4%) 0.0242\n",
      "73m 40s (- 1461m 7s) (2400 4%) 0.0231\n",
      "76m 43s (- 1457m 53s) (2500 5%) 0.0249\n",
      "79m 44s (- 1453m 52s) (2600 5%) 0.0253\n",
      "82m 47s (- 1450m 19s) (2700 5%) 0.0229\n",
      "85m 49s (- 1446m 48s) (2800 5%) 0.0246\n",
      "88m 58s (- 1444m 58s) (2900 5%) 0.0236\n",
      "92m 3s (- 1442m 14s) (3000 6%) 0.0214\n",
      "> 给 我 这 本 书 。\n",
      "= give me the book .\n",
      "< give me the book . <EOS>\n"
     ]
    },
    {
     "data": {
      "image/png": "[encoded data removed]",
      "text/plain": [
       "<Figure size 432x288 with 2 Axes>"
      ]
     },
     "metadata": {},
     "output_type": "display_data"
    },
    {
     "name": "stdout",
     "output_type": "stream",
     "text": [
      "95m 6s (- 1438m 51s) (3100 6%) 0.0229\n",
      "98m 8s (- 1435m 17s) (3200 6%) 0.0213\n",
      "101m 10s (- 1431m 53s) (3300 6%) 0.0221\n",
      "104m 16s (- 1429m 9s) (3400 6%) 0.0551\n",
      "107m 19s (- 1425m 58s) (3500 7%) 0.0513\n",
      "110m 24s (- 1423m 7s) (3600 7%) 0.0313\n",
      "113m 28s (- 1420m 0s) (3700 7%) 0.0305\n",
      "116m 33s (- 1417m 2s) (3800 7%) 0.0267\n",
      "119m 33s (- 1413m 18s) (3900 7%) 0.0237\n",
      "122m 37s (- 1410m 15s) (4000 8%) 0.0235\n",
      "> 那 是 一个 好 主意 。\n",
      "= that s a good idea .\n",
      "< that s a good idea . <EOS>\n"
     ]
    },
    {
     "data": {
      "image/png": "[encoded data removed]",
      "text/plain": [
       "<Figure size 432x288 with 2 Axes>"
      ]
     },
     "metadata": {},
     "output_type": "display_data"
    },
    {
     "name": "stdout",
     "output_type": "stream",
     "text": [
      "125m 41s (- 1407m 13s) (4100 8%) 0.0225\n",
      "128m 42s (- 1403m 30s) (4200 8%) 0.0220\n",
      "131m 47s (- 1400m 43s) (4300 8%) 0.0226\n",
      "134m 49s (- 1397m 14s) (4400 8%) 0.0216\n",
      "137m 52s (- 1394m 7s) (4500 9%) 0.0210\n",
      "140m 57s (- 1391m 9s) (4600 9%) 0.0212\n",
      "144m 1s (- 1388m 10s) (4700 9%) 0.0219\n",
      "147m 7s (- 1385m 22s) (4800 9%) 0.0219\n",
      "150m 10s (- 1382m 15s) (4900 9%) 0.0230\n",
      "153m 16s (- 1379m 24s) (5000 10%) 0.0224\n",
      "> 我 想 他 会 来 的 吧 。\n",
      "= i think he ll come .\n",
      "< i think he ll come . <EOS>\n"
     ]
    },
    {
     "data": {
      "image/png": "[encoded data removed]",
      "text/plain": [
       "<Figure size 432x288 with 2 Axes>"
      ]
     },
     "metadata": {},
     "output_type": "display_data"
    },
    {
     "name": "stdout",
     "output_type": "stream",
     "text": [
      "156m 21s (- 1376m 34s) (5100 10%) 0.0209\n",
      "159m 28s (- 1373m 53s) (5200 10%) 0.0206\n",
      "162m 30s (- 1370m 34s) (5300 10%) 0.0211\n",
      "165m 33s (- 1367m 27s) (5400 10%) 0.0205\n",
      "168m 38s (- 1364m 31s) (5500 11%) 0.0219\n",
      "171m 41s (- 1361m 16s) (5600 11%) 0.0210\n",
      "174m 47s (- 1358m 28s) (5700 11%) 0.0206\n",
      "177m 53s (- 1355m 37s) (5800 11%) 0.0213\n",
      "180m 59s (- 1352m 51s) (5900 11%) 0.0213\n",
      "184m 3s (- 1349m 47s) (6000 12%) 0.0286\n",
      "> 我 应该 去 做 。\n",
      "= i should do it .\n",
      "< i should do it . <EOS>\n"
     ]
    },
    {
     "data": {
      "image/png": "[encoded data removed]",
      "text/plain": [
       "<Figure size 432x288 with 2 Axes>"
      ]
     },
     "metadata": {},
     "output_type": "display_data"
    },
    {
     "name": "stdout",
     "output_type": "stream",
     "text": [
      "187m 9s (- 1346m 54s) (6100 12%) 0.0559\n",
      "190m 10s (- 1343m 29s) (6200 12%) 0.0343\n",
      "193m 15s (- 1340m 32s) (6300 12%) 0.0251\n",
      "196m 18s (- 1337m 23s) (6400 12%) 0.0221\n",
      "199m 25s (- 1334m 35s) (6500 13%) 0.0231\n",
      "202m 30s (- 1331m 38s) (6600 13%) 0.0214\n",
      "205m 33s (- 1328m 27s) (6700 13%) 0.0214\n",
      "208m 37s (- 1325m 23s) (6800 13%) 0.0230\n",
      "211m 43s (- 1322m 33s) (6900 13%) 0.0249\n",
      "214m 44s (- 1319m 8s) (7000 14%) 0.0257\n",
      "> 这 是 谁 的 书 ?\n",
      "= whose book is this ?\n",
      "< whose book is this ? <EOS>\n"
     ]
    },
    {
     "data": {
      "image/png": "[encoded data removed]",
      "text/plain": [
       "<Figure size 432x288 with 2 Axes>"
      ]
     },
     "metadata": {},
     "output_type": "display_data"
    },
    {
     "name": "stdout",
     "output_type": "stream",
     "text": [
      "217m 50s (- 1316m 12s) (7100 14%) 0.0224\n",
      "220m 54s (- 1313m 8s) (7200 14%) 0.0236\n",
      "223m 57s (- 1309m 59s) (7300 14%) 0.0226\n",
      "227m 4s (- 1307m 12s) (7400 14%) 0.0215\n",
      "230m 7s (- 1304m 4s) (7500 15%) 0.0211\n",
      "233m 13s (- 1301m 8s) (7600 15%) 0.0214\n",
      "236m 19s (- 1298m 15s) (7700 15%) 0.0201\n",
      "239m 23s (- 1295m 11s) (7800 15%) 0.0211\n",
      "242m 30s (- 1292m 21s) (7900 15%) 0.0220\n",
      "245m 36s (- 1289m 27s) (8000 16%) 0.0213\n",
      "> 你 不是 汤姆 吗 ?\n",
      "= aren t you tom ?\n",
      "< aren t you tom ? <EOS>\n"
     ]
    },
    {
     "data": {
      "image/png": "[encoded data removed]",
      "text/plain": [
       "<Figure size 432x288 with 2 Axes>"
      ]
     },
     "metadata": {},
     "output_type": "display_data"
    },
    {
     "name": "stdout",
     "output_type": "stream",
     "text": [
      "248m 41s (- 1286m 26s) (8100 16%) 0.0206\n",
      "251m 42s (- 1283m 4s) (8200 16%) 0.0212\n",
      "254m 46s (- 1279m 59s) (8300 16%) 0.0208\n",
      "257m 52s (- 1277m 8s) (8400 16%) 0.0203\n",
      "260m 56s (- 1274m 1s) (8500 17%) 0.0206\n",
      "264m 4s (- 1271m 12s) (8600 17%) 0.0212\n",
      "267m 6s (- 1267m 58s) (8700 17%) 0.0217\n",
      "270m 16s (- 1265m 21s) (8800 17%) 0.0209\n",
      "273m 25s (- 1262m 38s) (8900 17%) 0.0214\n",
      "276m 33s (- 1259m 53s) (9000 18%) 0.0217\n",
      "> 你 认识 他 吗 ?\n",
      "= do you know him ?\n",
      "< do you know him ? <EOS>\n"
     ]
    },
    {
     "data": {
      "image/png": "[encoded data removed]",
      "text/plain": [
       "<Figure size 432x288 with 2 Axes>"
      ]
     },
     "metadata": {},
     "output_type": "display_data"
    },
    {
     "name": "stdout",
     "output_type": "stream",
     "text": [
      "279m 40s (- 1257m 0s) (9100 18%) 0.0210\n",
      "282m 50s (- 1254m 20s) (9200 18%) 0.0211\n",
      "296m 35s (- 1298m 0s) (9300 18%) 0.0199\n",
      "311m 47s (- 1346m 40s) (9400 18%) 0.0202\n",
      "326m 48s (- 1393m 13s) (9500 19%) 0.0203\n",
      "342m 43s (- 1442m 19s) (9600 19%) 0.0205\n",
      "357m 31s (- 1485m 21s) (9700 19%) 0.0201\n",
      "371m 42s (- 1524m 46s) (9800 19%) 0.0202\n",
      "386m 54s (- 1567m 9s) (9900 19%) 0.0224\n",
      "401m 29s (- 1605m 57s) (10000 20%) 0.0417\n",
      "> 让 我们 开始 这个 派对 吧 。\n",
      "= let s start the party .\n",
      "< let s start the party . <EOS>\n"
     ]
    },
    {
     "data": {
      "image/png": "[encoded data removed]",
      "text/plain": [
       "<Figure size 432x288 with 2 Axes>"
      ]
     },
     "metadata": {},
     "output_type": "display_data"
    },
    {
     "name": "stdout",
     "output_type": "stream",
     "text": [
      "417m 7s (- 1647m 52s) (10100 20%) 0.0472\n",
      "431m 16s (- 1682m 48s) (10200 20%) 0.0335\n",
      "446m 52s (- 1722m 26s) (10300 20%) 0.0237\n",
      "451m 24s (- 1718m 49s) (10400 20%) 0.0223\n",
      "455m 59s (- 1715m 23s) (10500 21%) 0.0213\n",
      "460m 40s (- 1712m 18s) (10600 21%) 0.0220\n",
      "465m 21s (- 1709m 13s) (10700 21%) 0.0210\n",
      "469m 54s (- 1705m 36s) (10800 21%) 0.0216\n",
      "474m 24s (- 1701m 46s) (10900 21%) 0.0205\n",
      "479m 3s (- 1698m 28s) (11000 22%) 0.0202\n",
      "> 我 可以 出去 玩 吗 ?\n",
      "= may i go out to play ?\n",
      "< may i go out to play ? <EOS>\n"
     ]
    },
    {
     "data": {
      "image/png": "[encoded data removed]",
      "text/plain": [
       "<Figure size 432x288 with 2 Axes>"
      ]
     },
     "metadata": {},
     "output_type": "display_data"
    },
    {
     "name": "stdout",
     "output_type": "stream",
     "text": [
      "483m 39s (- 1694m 58s) (11100 22%) 0.0209\n",
      "488m 11s (- 1691m 14s) (11200 22%) 0.0213\n",
      "492m 48s (- 1687m 44s) (11300 22%) 0.0211\n",
      "497m 22s (- 1684m 5s) (11400 22%) 0.0212\n",
      "502m 0s (- 1680m 37s) (11500 23%) 0.0204\n",
      "506m 35s (- 1676m 58s) (11600 23%) 0.0210\n",
      "511m 10s (- 1673m 19s) (11700 23%) 0.0211\n",
      "515m 49s (- 1669m 53s) (11800 23%) 0.0218\n",
      "520m 26s (- 1666m 18s) (11900 23%) 0.0208\n",
      "524m 56s (- 1662m 18s) (12000 24%) 0.0205\n",
      "> 让 我 看看 。\n",
      "= let me have a look .\n",
      "< let me see it . <EOS>\n"
     ]
    },
    {
     "data": {
      "image/png": "[encoded data removed]",
      "text/plain": [
       "<Figure size 432x288 with 2 Axes>"
      ]
     },
     "metadata": {},
     "output_type": "display_data"
    },
    {
     "name": "stdout",
     "output_type": "stream",
     "text": [
      "529m 28s (- 1658m 27s) (12100 24%) 0.0211\n",
      "534m 4s (- 1654m 45s) (12200 24%) 0.0210\n",
      "538m 39s (- 1651m 1s) (12300 24%) 0.0210\n",
      "543m 17s (- 1647m 23s) (12400 24%) 0.0216\n",
      "547m 57s (- 1643m 51s) (12500 25%) 0.0205\n",
      "552m 33s (- 1640m 7s) (12600 25%) 0.0207\n",
      "557m 8s (- 1636m 18s) (12700 25%) 0.0203\n",
      "561m 42s (- 1632m 28s) (12800 25%) 0.0210\n",
      "566m 15s (- 1628m 32s) (12900 25%) 0.0215\n",
      "569m 17s (- 1620m 18s) (13000 26%) 0.0211\n",
      "> 他 没 听 。\n",
      "= he doesn t listen .\n",
      "< he doesn t listen . <EOS>\n"
     ]
    },
    {
     "data": {
      "image/png": "[encoded data removed]",
      "text/plain": [
       "<Figure size 432x288 with 2 Axes>"
      ]
     },
     "metadata": {},
     "output_type": "display_data"
    },
    {
     "name": "stdout",
     "output_type": "stream",
     "text": [
      "572m 24s (- 1612m 21s) (13100 26%) 0.0221\n",
      "575m 29s (- 1604m 25s) (13200 26%) 0.0217\n",
      "578m 33s (- 1596m 28s) (13300 26%) 0.0322\n",
      "581m 36s (- 1588m 33s) (13400 26%) 0.0320\n",
      "584m 37s (- 1580m 39s) (13500 27%) 0.0271\n",
      "587m 45s (- 1573m 6s) (13600 27%) 0.0234\n",
      "590m 47s (- 1565m 23s) (13700 27%) 0.0224\n",
      "593m 52s (- 1557m 52s) (13800 27%) 0.0215\n",
      "596m 54s (- 1550m 14s) (13900 27%) 0.0217\n",
      "600m 0s (- 1542m 53s) (14000 28%) 0.0221\n",
      "> 他 像 他 父亲 。\n",
      "= he is like his father .\n",
      "< he is like his father . <EOS>\n"
     ]
    },
    {
     "data": {
      "image/png": "[encoded data removed]",
      "text/plain": [
       "<Figure size 432x288 with 2 Axes>"
      ]
     },
     "metadata": {},
     "output_type": "display_data"
    },
    {
     "name": "stdout",
     "output_type": "stream",
     "text": [
      "603m 2s (- 1535m 23s) (14100 28%) 0.0218\n",
      "606m 5s (- 1528m 2s) (14200 28%) 0.0217\n",
      "609m 10s (- 1520m 47s) (14300 28%) 0.0205\n",
      "612m 17s (- 1513m 42s) (14400 28%) 0.0241\n",
      "615m 23s (- 1506m 37s) (14500 28%) 0.0222\n",
      "618m 26s (- 1499m 30s) (14600 29%) 0.0241\n",
      "621m 30s (- 1492m 27s) (14700 29%) 0.0240\n",
      "624m 35s (- 1485m 30s) (14800 29%) 0.0226\n",
      "627m 36s (- 1478m 28s) (14900 29%) 0.0213\n",
      "630m 41s (- 1471m 36s) (15000 30%) 0.0222\n",
      "> 我们 需要 汤姆 回来 。\n",
      "= we need tom back .\n",
      "< we need tom back . <EOS>\n"
     ]
    },
    {
     "data": {
      "image/png": "[encoded data removed]",
      "text/plain": [
       "<Figure size 432x288 with 2 Axes>"
      ]
     },
     "metadata": {},
     "output_type": "display_data"
    },
    {
     "name": "stdout",
     "output_type": "stream",
     "text": [
      "633m 47s (- 1464m 50s) (15100 30%) 0.0208\n",
      "636m 51s (- 1458m 3s) (15200 30%) 0.0208\n",
      "639m 53s (- 1451m 15s) (15300 30%) 0.0207\n",
      "642m 52s (- 1444m 22s) (15400 30%) 0.0207\n",
      "645m 57s (- 1437m 45s) (15500 31%) 0.0201\n",
      "649m 0s (- 1431m 8s) (15600 31%) 0.0211\n",
      "652m 7s (- 1424m 41s) (15700 31%) 0.0203\n",
      "655m 13s (- 1418m 15s) (15800 31%) 0.0208\n",
      "658m 15s (- 1411m 45s) (15900 31%) 0.0220\n",
      "661m 20s (- 1405m 21s) (16000 32%) 0.0327\n",
      "> 她 打 了 他 。\n",
      "= she hit him .\n",
      "< she hit him . <EOS>\n"
     ]
    },
    {
     "data": {
      "image/png": "[encoded data removed]",
      "text/plain": [
       "<Figure size 432x288 with 2 Axes>"
      ]
     },
     "metadata": {},
     "output_type": "display_data"
    },
    {
     "name": "stdout",
     "output_type": "stream",
     "text": [
      "664m 25s (- 1398m 59s) (16100 32%) 0.0278\n",
      "667m 29s (- 1392m 40s) (16200 32%) 0.0240\n",
      "670m 32s (- 1386m 19s) (16300 32%) 0.0217\n",
      "673m 37s (- 1380m 6s) (16400 32%) 0.0216\n",
      "676m 41s (- 1373m 53s) (16500 33%) 0.0209\n",
      "679m 45s (- 1367m 43s) (16600 33%) 0.0224\n",
      "682m 49s (- 1361m 33s) (16700 33%) 0.0214\n",
      "685m 54s (- 1355m 29s) (16800 33%) 0.0207\n",
      "688m 58s (- 1349m 24s) (16900 33%) 0.0209\n",
      "692m 5s (- 1343m 28s) (17000 34%) 0.0207\n",
      "> 我 真 不 了解 汤姆 。\n",
      "= i really don t know tom .\n",
      "< i really don t know tom . <EOS>\n"
     ]
    },
    {
     "data": {
      "image/png": "[encoded data removed]",
      "text/plain": [
       "<Figure size 432x288 with 2 Axes>"
      ]
     },
     "metadata": {},
     "output_type": "display_data"
    },
    {
     "name": "stdout",
     "output_type": "stream",
     "text": [
      "695m 9s (- 1337m 28s) (17100 34%) 0.0207\n",
      "698m 11s (- 1331m 25s) (17200 34%) 0.0202\n",
      "701m 16s (- 1325m 32s) (17300 34%) 0.0205\n",
      "704m 17s (- 1319m 32s) (17400 34%) 0.0211\n",
      "707m 20s (- 1313m 37s) (17500 35%) 0.0213\n",
      "710m 27s (- 1307m 53s) (17600 35%) 0.0210\n",
      "713m 32s (- 1302m 6s) (17700 35%) 0.0204\n",
      "716m 37s (- 1296m 22s) (17800 35%) 0.0203\n",
      "719m 43s (- 1290m 41s) (17900 35%) 0.0224\n",
      "722m 50s (- 1285m 2s) (18000 36%) 0.0210\n",
      "> 你 的 狗 在 哪里 ?\n",
      "= where s your dog ?\n",
      "< where is your dog ? <EOS>\n"
     ]
    },
    {
     "data": {
      "image/png": "[encoded data removed]",
      "text/plain": [
       "<Figure size 432x288 with 2 Axes>"
      ]
     },
     "metadata": {},
     "output_type": "display_data"
    },
    {
     "name": "stdout",
     "output_type": "stream",
     "text": [
      "725m 55s (- 1279m 23s) (18100 36%) 0.0203\n",
      "729m 0s (- 1273m 46s) (18200 36%) 0.0208\n",
      "731m 59s (- 1267m 58s) (18300 36%) 0.0196\n",
      "735m 5s (- 1262m 26s) (18400 36%) 0.0209\n",
      "738m 9s (- 1256m 51s) (18500 37%) 0.0213\n",
      "741m 13s (- 1251m 18s) (18600 37%) 0.0207\n",
      "744m 20s (- 1245m 51s) (18700 37%) 0.0215\n",
      "747m 25s (- 1240m 24s) (18800 37%) 0.0249\n",
      "750m 29s (- 1234m 56s) (18900 37%) 0.0339\n",
      "753m 32s (- 1229m 28s) (19000 38%) 0.0275\n",
      "> 请 坐 。\n",
      "= please take your seat .\n",
      "< please take your seat . <EOS>\n"
     ]
    },
    {
     "data": {
      "image/png": "[encoded data removed]",
      "text/plain": [
       "<Figure size 432x288 with 2 Axes>"
      ]
     },
     "metadata": {},
     "output_type": "display_data"
    },
    {
     "name": "stdout",
     "output_type": "stream",
     "text": [
      "756m 35s (- 1224m 0s) (19100 38%) 0.0241\n",
      "759m 41s (- 1218m 40s) (19200 38%) 0.0215\n",
      "762m 43s (- 1213m 15s) (19300 38%) 0.0210\n",
      "765m 45s (- 1207m 50s) (19400 38%) 0.0222\n",
      "768m 50s (- 1202m 33s) (19500 39%) 0.0210\n",
      "771m 56s (- 1197m 17s) (19600 39%) 0.0200\n",
      "774m 58s (- 1191m 57s) (19700 39%) 0.0221\n",
      "778m 2s (- 1186m 42s) (19800 39%) 0.0205\n",
      "781m 6s (- 1181m 28s) (19900 39%) 0.0203\n",
      "784m 9s (- 1176m 14s) (20000 40%) 0.0215\n",
      "> 我会 游泳 。\n",
      "= i can swim .\n",
      "< i can swim . <EOS>\n"
     ]
    },
    {
     "data": {
      "image/png": "[encoded data removed]",
      "text/plain": [
       "<Figure size 432x288 with 2 Axes>"
      ]
     },
     "metadata": {},
     "output_type": "display_data"
    },
    {
     "name": "stdout",
     "output_type": "stream",
     "text": [
      "787m 11s (- 1170m 59s) (20100 40%) 0.0198\n",
      "790m 13s (- 1165m 46s) (20200 40%) 0.0209\n",
      "793m 16s (- 1160m 36s) (20300 40%) 0.0210\n",
      "796m 24s (- 1155m 34s) (20400 40%) 0.0208\n",
      "799m 29s (- 1150m 28s) (20500 41%) 0.0212\n",
      "802m 32s (- 1145m 21s) (20600 41%) 0.0207\n",
      "805m 35s (- 1140m 16s) (20700 41%) 0.0205\n",
      "808m 40s (- 1135m 15s) (20800 41%) 0.0199\n",
      "811m 48s (- 1130m 19s) (20900 41%) 0.0207\n",
      "814m 54s (- 1125m 20s) (21000 42%) 0.0206\n",
      "> 你 会 弹 钢琴 吗 ?\n",
      "= can you play the piano ?\n",
      "< can you play the piano ? <EOS>\n"
     ]
    },
    {
     "data": {
      "image/png": "[encoded data removed]",
      "text/plain": [
       "<Figure size 432x288 with 2 Axes>"
      ]
     },
     "metadata": {},
     "output_type": "display_data"
    },
    {
     "name": "stdout",
     "output_type": "stream",
     "text": [
      "818m 2s (- 1120m 26s) (21100 42%) 0.0197\n",
      "821m 7s (- 1115m 29s) (21200 42%) 0.0205\n",
      "824m 11s (- 1110m 32s) (21300 42%) 0.0206\n",
      "827m 16s (- 1105m 36s) (21400 42%) 0.0209\n",
      "830m 21s (- 1100m 42s) (21500 43%) 0.0204\n",
      "833m 27s (- 1095m 50s) (21600 43%) 0.0212\n",
      "836m 30s (- 1090m 55s) (21700 43%) 0.0228\n",
      "839m 35s (- 1086m 4s) (21800 43%) 0.0199\n",
      "842m 39s (- 1081m 13s) (21900 43%) 0.0217\n",
      "845m 43s (- 1076m 22s) (22000 44%) 0.0194\n",
      "> 每个 人 都 高兴 。\n",
      "= everyone was happy .\n",
      "< everyone was happy . <EOS>\n"
     ]
    },
    {
     "data": {
      "image/png": "[encoded data removed]",
      "text/plain": [
       "<Figure size 432x288 with 2 Axes>"
      ]
     },
     "metadata": {},
     "output_type": "display_data"
    },
    {
     "name": "stdout",
     "output_type": "stream",
     "text": [
      "848m 50s (- 1071m 36s) (22100 44%) 0.0271\n",
      "851m 52s (- 1066m 45s) (22200 44%) 0.0391\n",
      "854m 53s (- 1061m 54s) (22300 44%) 0.0270\n",
      "857m 59s (- 1057m 9s) (22400 44%) 0.0222\n",
      "861m 4s (- 1052m 25s) (22500 45%) 0.0211\n",
      "864m 13s (- 1047m 46s) (22600 45%) 0.0225\n",
      "867m 18s (- 1043m 3s) (22700 45%) 0.0215\n",
      "870m 26s (- 1038m 25s) (22800 45%) 0.0210\n",
      "873m 33s (- 1033m 45s) (22900 45%) 0.0204\n",
      "876m 32s (- 1028m 59s) (23000 46%) 0.0203\n",
      "> 我 写 了 一封 信 。\n",
      "= i wrote a letter .\n",
      "< i wrote a letter . <EOS>\n"
     ]
    },
    {
     "data": {
      "image/png": "[encoded data removed]",
      "text/plain": [
       "<Figure size 432x288 with 2 Axes>"
      ]
     },
     "metadata": {},
     "output_type": "display_data"
    },
    {
     "name": "stdout",
     "output_type": "stream",
     "text": [
      "879m 35s (- 1024m 16s) (23100 46%) 0.0203\n",
      "882m 37s (- 1019m 35s) (23200 46%) 0.0210\n",
      "885m 41s (- 1014m 56s) (23300 46%) 0.0228\n",
      "888m 46s (- 1010m 19s) (23400 46%) 0.0239\n",
      "891m 50s (- 1005m 41s) (23500 47%) 0.0219\n",
      "894m 54s (- 1001m 4s) (23600 47%) 0.0210\n",
      "898m 1s (- 996m 32s) (23700 47%) 0.0211\n",
      "901m 5s (- 991m 57s) (23800 47%) 0.0208\n",
      "904m 9s (- 987m 23s) (23900 47%) 0.0201\n",
      "907m 16s (- 982m 52s) (24000 48%) 0.0198\n",
      "> 我 不 喜欢 你 。\n",
      "= i don t like you .\n",
      "< i don t like you . <EOS>\n"
     ]
    },
    {
     "data": {
      "image/png": "[encoded data removed]",
      "text/plain": [
       "<Figure size 432x288 with 2 Axes>"
      ]
     },
     "metadata": {},
     "output_type": "display_data"
    },
    {
     "name": "stdout",
     "output_type": "stream",
     "text": [
      "910m 23s (- 978m 22s) (24100 48%) 0.0205\n",
      "913m 28s (- 973m 52s) (24200 48%) 0.0210\n",
      "916m 34s (- 969m 22s) (24300 48%) 0.0209\n",
      "919m 40s (- 964m 54s) (24400 48%) 0.0215\n",
      "922m 41s (- 960m 20s) (24500 49%) 0.0204\n",
      "925m 46s (- 955m 52s) (24600 49%) 0.0198\n",
      "928m 49s (- 951m 22s) (24700 49%) 0.0209\n",
      "931m 53s (- 946m 55s) (24800 49%) 0.0209\n",
      "934m 54s (- 942m 24s) (24900 49%) 0.0199\n",
      "938m 1s (- 938m 1s) (25000 50%) 0.0214\n",
      "> 他 无法 得到 这 份 工作 。\n",
      "= he couldn t get the job .\n",
      "< he couldn t get the job . <EOS>\n"
     ]
    },
    {
     "data": {
      "image/png": "[encoded data removed]",
      "text/plain": [
       "<Figure size 432x288 with 2 Axes>"
      ]
     },
     "metadata": {},
     "output_type": "display_data"
    },
    {
     "name": "stdout",
     "output_type": "stream",
     "text": [
      "941m 8s (- 933m 38s) (25100 50%) 0.0210\n",
      "944m 15s (- 929m 15s) (25200 50%) 0.0205\n",
      "947m 20s (- 924m 52s) (25300 50%) 0.0201\n",
      "950m 26s (- 920m 29s) (25400 50%) 0.0211\n",
      "953m 30s (- 916m 7s) (25500 51%) 0.0207\n",
      "956m 33s (- 911m 43s) (25600 51%) 0.0201\n",
      "959m 39s (- 907m 22s) (25700 51%) 0.0205\n",
      "962m 46s (- 903m 3s) (25800 51%) 0.0216\n",
      "965m 51s (- 898m 43s) (25900 51%) 0.0204\n",
      "968m 57s (- 894m 25s) (26000 52%) 0.0211\n",
      "> 你 真的 不会 游泳 吗 ?\n",
      "= can you really not swim ?\n",
      "< can you really not swim ? <EOS>\n"
     ]
    },
    {
     "data": {
      "image/png": "[encoded data removed]",
      "text/plain": [
       "<Figure size 432x288 with 2 Axes>"
      ]
     },
     "metadata": {},
     "output_type": "display_data"
    },
    {
     "name": "stdout",
     "output_type": "stream",
     "text": [
      "972m 2s (- 890m 6s) (26100 52%) 0.0206\n",
      "975m 5s (- 885m 46s) (26200 52%) 0.0224\n",
      "978m 7s (- 881m 25s) (26300 52%) 0.0217\n",
      "981m 12s (- 877m 8s) (26400 52%) 0.0207\n",
      "984m 18s (- 872m 52s) (26500 53%) 0.0218\n",
      "987m 21s (- 868m 34s) (26600 53%) 0.0206\n",
      "990m 22s (- 864m 15s) (26700 53%) 0.0201\n",
      "993m 27s (- 860m 0s) (26800 53%) 0.0213\n",
      "996m 30s (- 855m 44s) (26900 53%) 0.0255\n",
      "999m 34s (- 851m 29s) (27000 54%) 0.0335\n",
      "> 我 每天 洗 一次 澡 。\n",
      "= i take a bath every day .\n",
      "< i have a bath every day . <EOS>\n"
     ]
    },
    {
     "data": {
      "image/png": "[encoded data removed]",
      "text/plain": [
       "<Figure size 432x288 with 2 Axes>"
      ]
     },
     "metadata": {},
     "output_type": "display_data"
    },
    {
     "name": "stdout",
     "output_type": "stream",
     "text": [
      "1002m 37s (- 847m 14s) (27100 54%) 0.0268\n",
      "1005m 42s (- 843m 1s) (27200 54%) 0.0228\n",
      "1008m 44s (- 838m 46s) (27300 54%) 0.0219\n",
      "1011m 50s (- 834m 35s) (27400 54%) 0.0219\n",
      "1014m 53s (- 830m 21s) (27500 55%) 0.0211\n",
      "1017m 56s (- 826m 9s) (27600 55%) 0.0211\n",
      "1021m 0s (- 821m 58s) (27700 55%) 0.0209\n",
      "1024m 5s (- 817m 48s) (27800 55%) 0.0222\n",
      "1027m 8s (- 813m 36s) (27900 55%) 0.0209\n",
      "1030m 12s (- 809m 27s) (28000 56%) 0.0214\n",
      "> 我 怎么 知道 ?\n",
      "= how should i know ?\n",
      "< how should i know ? <EOS>\n"
     ]
    },
    {
     "data": {
      "image/png": "[encoded data removed]",
      "text/plain": [
       "<Figure size 432x288 with 2 Axes>"
      ]
     },
     "metadata": {},
     "output_type": "display_data"
    },
    {
     "name": "stdout",
     "output_type": "stream",
     "text": [
      "1033m 18s (- 805m 18s) (28100 56%) 0.0217\n",
      "1036m 23s (- 801m 10s) (28200 56%) 0.0207\n",
      "1039m 27s (- 797m 2s) (28300 56%) 0.0208\n",
      "1042m 31s (- 792m 54s) (28400 56%) 0.0201\n",
      "1045m 36s (- 788m 47s) (28500 56%) 0.0207\n",
      "1048m 39s (- 784m 39s) (28600 57%) 0.0199\n",
      "1051m 45s (- 780m 34s) (28700 57%) 0.0220\n",
      "1054m 46s (- 776m 25s) (28800 57%) 0.0197\n",
      "1057m 48s (- 772m 18s) (28900 57%) 0.0213\n",
      "1060m 54s (- 768m 14s) (29000 57%) 0.0207\n",
      "> 他 是 个 好人 。\n",
      "= he s a good man .\n",
      "< he s a good guy . <EOS>\n"
     ]
    },
    {
     "data": {
      "image/png": "[encoded data removed]",
      "text/plain": [
       "<Figure size 432x288 with 2 Axes>"
      ]
     },
     "metadata": {},
     "output_type": "display_data"
    },
    {
     "name": "stdout",
     "output_type": "stream",
     "text": [
      "1063m 56s (- 764m 8s) (29100 58%) 0.0209\n",
      "1066m 59s (- 760m 2s) (29200 58%) 0.0207\n",
      "1070m 5s (- 755m 59s) (29300 58%) 0.0203\n",
      "1073m 10s (- 751m 57s) (29400 58%) 0.0211\n",
      "1076m 17s (- 747m 56s) (29500 59%) 0.0208\n",
      "1079m 24s (- 743m 54s) (29600 59%) 0.0217\n",
      "1082m 25s (- 739m 50s) (29700 59%) 0.0211\n",
      "1085m 30s (- 735m 49s) (29800 59%) 0.0204\n",
      "1088m 35s (- 731m 47s) (29900 59%) 0.0221\n",
      "1091m 39s (- 727m 46s) (30000 60%) 0.0211\n",
      "> 你 想 做 什么 ?\n",
      "= what do you want to do ?\n",
      "< what do you want to do ? <EOS>\n"
     ]
    },
    {
     "data": {
      "image/png": "[encoded data removed]",
      "text/plain": [
       "<Figure size 432x288 with 2 Axes>"
      ]
     },
     "metadata": {},
     "output_type": "display_data"
    },
    {
     "name": "stdout",
     "output_type": "stream",
     "text": [
      "1094m 45s (- 723m 46s) (30100 60%) 0.0205\n",
      "1097m 51s (- 719m 47s) (30200 60%) 0.0210\n",
      "1100m 54s (- 715m 46s) (30300 60%) 0.0212\n",
      "1104m 0s (- 711m 47s) (30400 60%) 0.0206\n",
      "1107m 2s (- 707m 47s) (30500 61%) 0.0203\n",
      "1110m 6s (- 703m 47s) (30600 61%) 0.0210\n",
      "1113m 12s (- 699m 49s) (30700 61%) 0.0213\n",
      "1116m 14s (- 695m 50s) (30800 61%) 0.0219\n",
      "1119m 20s (- 691m 53s) (30900 61%) 0.0216\n",
      "1122m 21s (- 687m 53s) (31000 62%) 0.0213\n",
      "> 我们 现在 有 了 麻烦 。\n",
      "= we have a problem here .\n",
      "< we have a problem here . <EOS>\n"
     ]
    },
    {
     "data": {
      "image/png": "[encoded data removed]",
      "text/plain": [
       "<Figure size 432x288 with 2 Axes>"
      ]
     },
     "metadata": {},
     "output_type": "display_data"
    },
    {
     "name": "stdout",
     "output_type": "stream",
     "text": [
      "1125m 24s (- 683m 55s) (31100 62%) 0.0199\n",
      "1128m 27s (- 679m 57s) (31200 62%) 0.0224\n",
      "1131m 34s (- 676m 3s) (31300 62%) 0.0208\n",
      "1134m 39s (- 672m 7s) (31400 62%) 0.0216\n",
      "1137m 44s (- 668m 11s) (31500 63%) 0.0218\n",
      "1140m 50s (- 664m 17s) (31600 63%) 0.0204\n",
      "1143m 53s (- 660m 20s) (31700 63%) 0.0220\n",
      "1146m 55s (- 656m 25s) (31800 63%) 0.0241\n",
      "1149m 57s (- 652m 28s) (31900 63%) 0.0361\n",
      "1152m 59s (- 648m 33s) (32000 64%) 0.0260\n",
      "> 你好 吗 ?\n",
      "= how are you ?\n",
      "< how are you ? <EOS>\n"
     ]
    },
    {
     "data": {
      "image/png": "[encoded data removed]",
      "text/plain": [
       "<Figure size 432x288 with 2 Axes>"
      ]
     },
     "metadata": {},
     "output_type": "display_data"
    },
    {
     "name": "stdout",
     "output_type": "stream",
     "text": [
      "1156m 3s (- 644m 39s) (32100 64%) 0.0245\n",
      "1159m 9s (- 640m 46s) (32200 64%) 0.0235\n",
      "1162m 13s (- 636m 52s) (32300 64%) 0.0215\n",
      "1165m 17s (- 632m 59s) (32400 64%) 0.0206\n",
      "1168m 19s (- 629m 5s) (32500 65%) 0.0211\n",
      "1171m 25s (- 625m 14s) (32600 65%) 0.0218\n",
      "1174m 31s (- 621m 23s) (32700 65%) 0.0212\n",
      "1177m 37s (- 617m 32s) (32800 65%) 0.0207\n",
      "1180m 40s (- 613m 40s) (32900 65%) 0.0211\n",
      "1183m 45s (- 609m 48s) (33000 66%) 0.0212\n",
      "> 汤姆 不能 原谅 玛丽 。\n",
      "= tom can t get over mary .\n",
      "< tom can t get over mary . <EOS>\n"
     ]
    },
    {
     "data": {
      "image/png": "[encoded data removed]",
      "text/plain": [
       "<Figure size 432x288 with 2 Axes>"
      ]
     },
     "metadata": {},
     "output_type": "display_data"
    },
    {
     "name": "stdout",
     "output_type": "stream",
     "text": [
      "1186m 47s (- 605m 56s) (33100 66%) 0.0212\n",
      "1189m 51s (- 602m 5s) (33200 66%) 0.0211\n",
      "1192m 58s (- 598m 16s) (33300 66%) 0.0203\n",
      "1196m 0s (- 594m 25s) (33400 66%) 0.0214\n",
      "1199m 7s (- 590m 36s) (33500 67%) 0.0212\n",
      "1202m 17s (- 586m 49s) (33600 67%) 0.0210\n",
      "1205m 22s (- 583m 0s) (33700 67%) 0.0211\n",
      "1208m 29s (- 579m 13s) (33800 67%) 0.0202\n",
      "1211m 36s (- 575m 25s) (33900 67%) 0.0201\n",
      "1214m 38s (- 571m 35s) (34000 68%) 0.0203\n",
      "> 汤姆 不 喜欢 我 。\n",
      "= tom doesn t like me .\n",
      "< tom doesn t like me . <EOS>\n"
     ]
    },
    {
     "data": {
      "image/png": "[encoded data removed]",
      "text/plain": [
       "<Figure size 432x288 with 2 Axes>"
      ]
     },
     "metadata": {},
     "output_type": "display_data"
    },
    {
     "name": "stdout",
     "output_type": "stream",
     "text": [
      "1217m 43s (- 567m 47s) (34100 68%) 0.0197\n",
      "1220m 46s (- 563m 59s) (34200 68%) 0.0210\n",
      "1223m 49s (- 560m 10s) (34300 68%) 0.0207\n",
      "1226m 55s (- 556m 23s) (34400 68%) 0.0205\n",
      "1230m 0s (- 552m 36s) (34500 69%) 0.0206\n",
      "1233m 2s (- 548m 48s) (34600 69%) 0.0210\n",
      "1236m 6s (- 545m 1s) (34700 69%) 0.0205\n",
      "1239m 9s (- 541m 14s) (34800 69%) 0.0215\n",
      "1242m 11s (- 537m 27s) (34900 69%) 0.0211\n",
      "1245m 16s (- 533m 41s) (35000 70%) 0.0211\n",
      "> 我 希望 我 可以 去 。\n",
      "= i wish i could go .\n",
      "< i wish i could go . <EOS>\n"
     ]
    },
    {
     "data": {
      "image/png": "[encoded data removed]",
      "text/plain": [
       "<Figure size 432x288 with 2 Axes>"
      ]
     },
     "metadata": {},
     "output_type": "display_data"
    },
    {
     "name": "stdout",
     "output_type": "stream",
     "text": [
      "1248m 19s (- 529m 54s) (35100 70%) 0.0207\n",
      "1251m 24s (- 526m 9s) (35200 70%) 0.0208\n",
      "1254m 27s (- 522m 23s) (35300 70%) 0.0219\n",
      "1257m 28s (- 518m 37s) (35400 70%) 0.0215\n",
      "1260m 29s (- 514m 50s) (35500 71%) 0.0214\n",
      "1263m 32s (- 511m 5s) (35600 71%) 0.0217\n",
      "1266m 37s (- 507m 21s) (35700 71%) 0.0210\n",
      "1269m 44s (- 503m 38s) (35800 71%) 0.0267\n",
      "1272m 48s (- 499m 54s) (35900 71%) 0.0280\n",
      "1275m 49s (- 496m 9s) (36000 72%) 0.0249\n",
      "> 这个 故事 是 真的 。\n",
      "= this story is true .\n",
      "< this story is true . <EOS>\n"
     ]
    },
    {
     "data": {
      "image/png": "[encoded data removed]",
      "text/plain": [
       "<Figure size 432x288 with 2 Axes>"
      ]
     },
     "metadata": {},
     "output_type": "display_data"
    },
    {
     "name": "stdout",
     "output_type": "stream",
     "text": [
      "1278m 52s (- 492m 25s) (36100 72%) 0.0214\n",
      "1281m 55s (- 488m 41s) (36200 72%) 0.0216\n",
      "1285m 2s (- 484m 59s) (36300 72%) 0.0219\n",
      "1288m 3s (- 481m 15s) (36400 72%) 0.0212\n",
      "1291m 7s (- 477m 32s) (36500 73%) 0.0222\n",
      "1294m 12s (- 473m 50s) (36600 73%) 0.0220\n",
      "1297m 17s (- 470m 8s) (36700 73%) 0.0208\n",
      "1300m 19s (- 466m 25s) (36800 73%) 0.0222\n",
      "1303m 23s (- 462m 43s) (36900 73%) 0.0208\n",
      "1306m 30s (- 459m 2s) (37000 74%) 0.0212\n",
      "> 你 应该 去 看 医生 。\n",
      "= you should see a doctor .\n",
      "< you should see a doctor . <EOS>\n"
     ]
    },
    {
     "data": {
      "image/png": "[encoded data removed]",
      "text/plain": [
       "<Figure size 432x288 with 2 Axes>"
      ]
     },
     "metadata": {},
     "output_type": "display_data"
    },
    {
     "name": "stdout",
     "output_type": "stream",
     "text": [
      "1309m 34s (- 455m 21s) (37100 74%) 0.0214\n",
      "1312m 38s (- 451m 39s) (37200 74%) 0.0203\n",
      "1315m 45s (- 447m 59s) (37300 74%) 0.0211\n",
      "1318m 48s (- 444m 18s) (37400 74%) 0.0211\n",
      "1321m 54s (- 440m 38s) (37500 75%) 0.0204\n",
      "1325m 4s (- 436m 59s) (37600 75%) 0.0209\n",
      "1328m 6s (- 433m 18s) (37700 75%) 0.0201\n",
      "1331m 12s (- 429m 38s) (37800 75%) 0.0204\n",
      "1334m 20s (- 426m 0s) (37900 75%) 0.0210\n",
      "1337m 21s (- 422m 19s) (38000 76%) 0.0202\n",
      "> 我 自己 做 的 。\n",
      "= i made it myself .\n",
      "< i made it myself . <EOS>\n"
     ]
    },
    {
     "data": {
      "image/png": "[encoded data removed]",
      "text/plain": [
       "<Figure size 432x288 with 2 Axes>"
      ]
     },
     "metadata": {},
     "output_type": "display_data"
    },
    {
     "name": "stdout",
     "output_type": "stream",
     "text": [
      "1340m 21s (- 418m 38s) (38100 76%) 0.0209\n",
      "1343m 27s (- 414m 59s) (38200 76%) 0.0191\n",
      "1346m 30s (- 411m 20s) (38300 76%) 0.0198\n",
      "1349m 34s (- 407m 41s) (38400 76%) 0.0194\n",
      "1352m 59s (- 404m 8s) (38500 77%) 0.0212\n",
      "1357m 31s (- 400m 55s) (38600 77%) 0.0210\n",
      "1362m 11s (- 397m 44s) (38700 77%) 0.0205\n",
      "1366m 47s (- 394m 32s) (38800 77%) 0.0215\n",
      "1371m 21s (- 391m 18s) (38900 77%) 0.0214\n",
      "1376m 0s (- 388m 6s) (39000 78%) 0.0202\n",
      "> 我 开始 跑 。\n",
      "= i began running .\n",
      "< i began running . <EOS>\n"
     ]
    },
    {
     "data": {
      "image/png": "[encoded data removed]",
      "text/plain": [
       "<Figure size 432x288 with 2 Axes>"
      ]
     },
     "metadata": {},
     "output_type": "display_data"
    },
    {
     "name": "stdout",
     "output_type": "stream",
     "text": [
      "1380m 39s (- 384m 53s) (39100 78%) 0.0207\n",
      "1385m 16s (- 381m 39s) (39200 78%) 0.0207\n",
      "1389m 52s (- 378m 24s) (39300 78%) 0.0213\n",
      "1394m 28s (- 375m 9s) (39400 78%) 0.0195\n",
      "1399m 7s (- 371m 55s) (39500 79%) 0.0215\n",
      "1403m 47s (- 368m 40s) (39600 79%) 0.0252\n",
      "1408m 22s (- 365m 23s) (39700 79%) 0.0251\n",
      "1412m 55s (- 362m 6s) (39800 79%) 0.0247\n",
      "1417m 30s (- 358m 48s) (39900 79%) 0.0232\n",
      "1422m 7s (- 355m 31s) (40000 80%) 0.0207\n",
      "> 你 想 去 吗 ?\n",
      "= would you like to go ?\n",
      "< would you like to go ? <EOS>\n"
     ]
    },
    {
     "data": {
      "image/png": "[encoded data removed]",
      "text/plain": [
       "<Figure size 432x288 with 2 Axes>"
      ]
     },
     "metadata": {},
     "output_type": "display_data"
    },
    {
     "name": "stdout",
     "output_type": "stream",
     "text": [
      "1426m 41s (- 352m 13s) (40100 80%) 0.0215\n",
      "1431m 14s (- 348m 54s) (40200 80%) 0.0203\n",
      "1435m 53s (- 345m 36s) (40300 80%) 0.0217\n",
      "1440m 24s (- 342m 16s) (40400 80%) 0.0217\n",
      "1444m 53s (- 338m 55s) (40500 81%) 0.0215\n",
      "1449m 31s (- 335m 36s) (40600 81%) 0.0195\n",
      "1454m 5s (- 332m 15s) (40700 81%) 0.0221\n",
      "1458m 44s (- 328m 55s) (40800 81%) 0.0201\n",
      "1463m 14s (- 325m 33s) (40900 81%) 0.0211\n",
      "1467m 45s (- 322m 11s) (41000 82%) 0.0214\n",
      "> 你 是 汤姆 吗 ?\n",
      "= are you tom ?\n",
      "< are you tom ? <EOS>\n"
     ]
    },
    {
     "data": {
      "image/png": "[encoded data removed]",
      "text/plain": [
       "<Figure size 432x288 with 2 Axes>"
      ]
     },
     "metadata": {},
     "output_type": "display_data"
    },
    {
     "name": "stdout",
     "output_type": "stream",
     "text": [
      "1472m 23s (- 318m 50s) (41100 82%) 0.0208\n",
      "1476m 58s (- 315m 28s) (41200 82%) 0.0213\n",
      "1481m 34s (- 312m 5s) (41300 82%) 0.0212\n",
      "1486m 9s (- 308m 43s) (41400 82%) 0.0218\n",
      "1490m 48s (- 305m 20s) (41500 83%) 0.0212\n",
      "1495m 34s (- 301m 59s) (41600 83%) 0.0206\n",
      "1500m 10s (- 298m 35s) (41700 83%) 0.0209\n",
      "1504m 44s (- 295m 11s) (41800 83%) 0.0214\n",
      "1509m 17s (- 291m 46s) (41900 83%) 0.0208\n",
      "1513m 54s (- 288m 21s) (42000 84%) 0.0218\n",
      "> 我会 自己 走 。\n",
      "= i ll go by myself .\n",
      "< i ll go by myself . <EOS>\n"
     ]
    },
    {
     "data": {
      "image/png": "[encoded data removed]",
      "text/plain": [
       "<Figure size 432x288 with 2 Axes>"
      ]
     },
     "metadata": {},
     "output_type": "display_data"
    },
    {
     "name": "stdout",
     "output_type": "stream",
     "text": [
      "1518m 31s (- 284m 57s) (42100 84%) 0.0218\n",
      "1523m 7s (- 281m 31s) (42200 84%) 0.0208\n",
      "1527m 43s (- 278m 5s) (42300 84%) 0.0209\n",
      "1532m 16s (- 274m 39s) (42400 84%) 0.0214\n",
      "1536m 50s (- 271m 12s) (42500 85%) 0.0215\n",
      "1541m 17s (- 267m 44s) (42600 85%) 0.0227\n",
      "1545m 54s (- 264m 17s) (42700 85%) 0.0255\n",
      "1550m 29s (- 260m 49s) (42800 85%) 0.0233\n",
      "1555m 9s (- 257m 22s) (42900 85%) 0.0233\n",
      "1559m 40s (- 253m 54s) (43000 86%) 0.0224\n",
      "> 我们 需要 做 计划 。\n",
      "= we need to make a plan .\n",
      "< we need to make a plan . <EOS>\n"
     ]
    },
    {
     "data": {
      "image/png": "[encoded data removed]",
      "text/plain": [
       "<Figure size 432x288 with 2 Axes>"
      ]
     },
     "metadata": {},
     "output_type": "display_data"
    },
    {
     "name": "stdout",
     "output_type": "stream",
     "text": [
      "1564m 15s (- 250m 25s) (43100 86%) 0.0219\n",
      "1568m 50s (- 246m 56s) (43200 86%) 0.0229\n",
      "1573m 26s (- 243m 27s) (43300 86%) 0.0223\n",
      "1577m 2s (- 239m 49s) (43400 86%) 0.0222\n",
      "1580m 6s (- 236m 6s) (43500 87%) 0.0206\n",
      "1583m 11s (- 232m 23s) (43600 87%) 0.0216\n",
      "1586m 13s (- 228m 40s) (43700 87%) 0.0215\n",
      "1589m 19s (- 224m 58s) (43800 87%) 0.0212\n",
      "1592m 26s (- 221m 16s) (43900 87%) 0.0204\n",
      "1595m 31s (- 217m 34s) (44000 88%) 0.0216\n",
      "> 汤姆 让 玛丽 回家 。\n",
      "= tom let mary go home .\n",
      "< tom let mary go home . <EOS>\n"
     ]
    },
    {
     "data": {
      "image/png": "[encoded data removed]",
      "text/plain": [
       "<Figure size 432x288 with 2 Axes>"
      ]
     },
     "metadata": {},
     "output_type": "display_data"
    },
    {
     "name": "stdout",
     "output_type": "stream",
     "text": [
      "1598m 40s (- 213m 52s) (44100 88%) 0.0212\n",
      "1602m 29s (- 210m 16s) (44200 88%) 0.0212\n",
      "1607m 6s (- 206m 46s) (44300 88%) 0.0213\n",
      "1611m 42s (- 203m 16s) (44400 88%) 0.0219\n",
      "1616m 21s (- 199m 46s) (44500 89%) 0.0206\n",
      "1620m 57s (- 196m 15s) (44600 89%) 0.0205\n",
      "1625m 33s (- 192m 44s) (44700 89%) 0.0208\n",
      "1630m 8s (- 189m 12s) (44800 89%) 0.0203\n",
      "1634m 46s (- 185m 41s) (44900 89%) 0.0214\n",
      "1639m 20s (- 182m 8s) (45000 90%) 0.0200\n",
      "> 他们 都 喜欢 唱歌 。\n",
      "= they like to sing .\n",
      "< they like to sing . <EOS>\n"
     ]
    },
    {
     "data": {
      "image/png": "[encoded data removed]",
      "text/plain": [
       "<Figure size 432x288 with 2 Axes>"
      ]
     },
     "metadata": {},
     "output_type": "display_data"
    },
    {
     "name": "stdout",
     "output_type": "stream",
     "text": [
      "1643m 54s (- 178m 36s) (45100 90%) 0.0202\n",
      "1648m 32s (- 175m 3s) (45200 90%) 0.0202\n",
      "1653m 8s (- 171m 31s) (45300 90%) 0.0202\n",
      "1657m 44s (- 167m 57s) (45400 90%) 0.0208\n",
      "1662m 17s (- 164m 24s) (45500 91%) 0.0208\n",
      "1666m 54s (- 160m 50s) (45600 91%) 0.0209\n",
      "1671m 30s (- 157m 16s) (45700 91%) 0.0215\n",
      "1676m 5s (- 153m 42s) (45800 91%) 0.0215\n",
      "1680m 42s (- 150m 7s) (45900 91%) 0.0219\n",
      "1685m 15s (- 146m 32s) (46000 92%) 0.0196\n",
      "> 我 在 找 你 。\n",
      "= i m looking for you .\n",
      "< i m looking for you . <EOS>\n"
     ]
    },
    {
     "data": {
      "image/png": "[encoded data removed]",
      "text/plain": [
       "<Figure size 432x288 with 2 Axes>"
      ]
     },
     "metadata": {},
     "output_type": "display_data"
    },
    {
     "name": "stdout",
     "output_type": "stream",
     "text": [
      "1689m 51s (- 142m 57s) (46100 92%) 0.0201\n",
      "1694m 26s (- 139m 22s) (46200 92%) 0.0210\n",
      "1698m 53s (- 135m 45s) (46300 92%) 0.0205\n",
      "1703m 26s (- 132m 9s) (46400 92%) 0.0213\n",
      "1708m 0s (- 128m 33s) (46500 93%) 0.0207\n",
      "1712m 42s (- 124m 57s) (46600 93%) 0.0208\n",
      "1717m 13s (- 121m 20s) (46700 93%) 0.0221\n",
      "1720m 19s (- 117m 37s) (46800 93%) 0.0273\n",
      "1723m 23s (- 113m 54s) (46900 93%) 0.0236\n",
      "1726m 53s (- 110m 13s) (47000 94%) 0.0215\n",
      "> 请 进来 。\n",
      "= please come in .\n",
      "< please come in . <EOS>\n"
     ]
    },
    {
     "data": {
      "image/png": "[encoded data removed]",
      "text/plain": [
       "<Figure size 432x288 with 2 Axes>"
      ]
     },
     "metadata": {},
     "output_type": "display_data"
    },
    {
     "name": "stdout",
     "output_type": "stream",
     "text": [
      "1731m 27s (- 106m 36s) (47100 94%) 0.0231\n",
      "1736m 3s (- 102m 59s) (47200 94%) 0.0246\n",
      "1740m 42s (- 99m 21s) (47300 94%) 0.0228\n",
      "1745m 19s (- 95m 44s) (47400 94%) 0.0209\n",
      "1749m 51s (- 92m 5s) (47500 95%) 0.0204\n",
      "1754m 28s (- 88m 27s) (47600 95%) 0.0210\n",
      "1759m 6s (- 84m 49s) (47700 95%) 0.0214\n",
      "1763m 40s (- 81m 10s) (47800 95%) 0.0222\n",
      "1768m 18s (- 77m 31s) (47900 95%) 0.0220\n",
      "1772m 56s (- 73m 52s) (48000 96%) 0.0218\n",
      "> 我们 应该 去 哪里 ?\n",
      "= where should we go ?\n",
      "< where should we go ? <EOS>\n"
     ]
    },
    {
     "data": {
      "image/png": "[encoded data removed]",
      "text/plain": [
       "<Figure size 432x288 with 2 Axes>"
      ]
     },
     "metadata": {},
     "output_type": "display_data"
    },
    {
     "name": "stdout",
     "output_type": "stream",
     "text": [
      "1777m 36s (- 70m 13s) (48100 96%) 0.0213\n",
      "1782m 14s (- 66m 33s) (48200 96%) 0.0213\n",
      "1786m 49s (- 62m 53s) (48300 96%) 0.0219\n",
      "1791m 23s (- 59m 13s) (48400 96%) 0.0217\n",
      "1796m 0s (- 55m 32s) (48500 97%) 0.0222\n",
      "1800m 37s (- 51m 52s) (48600 97%) 0.0210\n",
      "1805m 15s (- 48m 11s) (48700 97%) 0.0218\n",
      "1809m 50s (- 44m 30s) (48800 97%) 0.0210\n",
      "1814m 25s (- 40m 48s) (48900 97%) 0.0206\n",
      "1818m 58s (- 37m 7s) (49000 98%) 0.0208\n",
      "> 那 一个 真 好 。\n",
      "= that one is really good .\n",
      "< that one is really good . <EOS>\n"
     ]
    },
    {
     "data": {
      "image/png": "[encoded data removed]",
      "text/plain": [
       "<Figure size 432x288 with 2 Axes>"
      ]
     },
     "metadata": {},
     "output_type": "display_data"
    },
    {
     "name": "stdout",
     "output_type": "stream",
     "text": [
      "1823m 35s (- 33m 25s) (49100 98%) 0.0222\n",
      "1828m 10s (- 29m 43s) (49200 98%) 0.0206\n",
      "1832m 43s (- 26m 1s) (49300 98%) 0.0215\n",
      "1837m 16s (- 22m 18s) (49400 98%) 0.0214\n",
      "1841m 52s (- 18m 36s) (49500 99%) 0.0210\n",
      "1846m 25s (- 14m 53s) (49600 99%) 0.0215\n",
      "1851m 2s (- 11m 10s) (49700 99%) 0.0217\n",
      "1855m 39s (- 7m 27s) (49800 99%) 0.0206\n",
      "1860m 16s (- 3m 43s) (49900 99%) 0.0209\n",
      "1864m 52s (- 0m 0s) (50000 100%) 0.0211\n",
      "> 她 不是 小孩 。\n",
      "= she s not a child .\n",
      "< she s not a child . <EOS>\n"
     ]
    },
    {
     "data": {
      "image/png": "[encoded data removed]",
      "text/plain": [
       "<Figure size 432x288 with 2 Axes>"
      ]
     },
     "metadata": {},
     "output_type": "display_data"
    }
   ],
   "source": [
    "# Begin!\n",
    "ecs = []\n",
    "dcs = []\n",
    "eca = 0\n",
    "dca = 0\n",
    "\n",
    "while epoch < n_epochs:\n",
    "    epoch += 1\n",
    "    \n",
    "    # Get training data for this cycle\n",
    "    input_batches, input_lengths, target_batches, target_lengths = random_batch(batch_size)\n",
    "\n",
    "    # Run the train function\n",
    "    loss, ec, dc = train(\n",
    "        input_batches, input_lengths, target_batches, target_lengths,\n",
    "        encoder, decoder,\n",
    "        encoder_optimizer, decoder_optimizer, criterion\n",
    "    )\n",
    "\n",
    "    # Keep track of loss\n",
    "    print_loss_total += loss\n",
    "    plot_loss_total += loss\n",
    "    eca += ec\n",
    "    dca += dc\n",
    "\n",
    "\n",
    "    if epoch % print_every == 0:\n",
    "        print_loss_avg = print_loss_total / print_every\n",
    "        print_loss_total = 0\n",
    "        print_summary = '%s (%d %d%%) %.4f' % (time_since(start, epoch / n_epochs), epoch, epoch / n_epochs * 100, print_loss_avg)\n",
    "        print(print_summary)\n",
    "        \n",
    "    if epoch % evaluate_every == 0:\n",
    "        evaluate_randomly()\n",
    "\n",
    "    if epoch % plot_every == 0:\n",
    "        plot_loss_avg = plot_loss_total / plot_every\n",
    "        plot_losses.append(plot_loss_avg)\n",
    "        plot_loss_total = 0\n",
    "        \n",
    "        # TODO: Running average helper\n",
    "        ecs.append(eca / plot_every)\n",
    "        dcs.append(dca / plot_every)\n",
    "        ecs_win = 'encoder grad (%s)' % hostname\n",
    "        dcs_win = 'decoder grad (%s)' % hostname\n",
    "        vis.line(np.array(ecs), win=ecs_win, opts={'title': ecs_win})\n",
    "        vis.line(np.array(dcs), win=dcs_win, opts={'title': dcs_win})\n",
    "        eca = 0\n",
    "        dca = 0"
   ]
  },
  {
   "cell_type": "markdown",
   "metadata": {},
   "source": [
    "## 损失绘图"
   ]
  },
  {
   "cell_type": "code",
   "execution_count": 34,
   "metadata": {},
   "outputs": [
    {
     "data": {
      "text/plain": [
       "<Figure size 432x288 with 0 Axes>"
      ]
     },
     "metadata": {},
     "output_type": "display_data"
    },
    {
     "data": {
      "image/png": "[encoded data removed]",
      "text/plain": [
       "<Figure size 432x288 with 1 Axes>"
      ]
     },
     "metadata": {},
     "output_type": "display_data"
    }
   ],
   "source": [
    "def show_plot(points):\n",
    "    plt.figure()\n",
    "    fig, ax = plt.subplots()\n",
    "    loc = ticker.MultipleLocator(base=0.2) # put ticks at regular intervals\n",
    "    ax.yaxis.set_major_locator(loc)\n",
    "    plt.plot(points)\n",
    "\n",
    "show_plot(plot_losses)"
   ]
  },
  {
   "cell_type": "code",
   "execution_count": 35,
   "metadata": {
    "scrolled": true
   },
   "outputs": [
    {
     "name": "stderr",
     "output_type": "stream",
     "text": [
      "/home/lili/tf1.5-py3/lib/python3.5/site-packages/ipykernel_launcher.py:31: UserWarning: Implicit dimension choice for softmax has been deprecated. Change the call to include dim=X as an argument.\n"
     ]
    },
    {
     "data": {
      "image/png": "[encoded data removed]",
      "text/plain": [
       "<Figure size 288x345.6 with 1 Axes>"
      ]
     },
     "metadata": {},
     "output_type": "display_data"
    }
   ],
   "source": [
    "output_words, attentions = evaluate(\"你 爱 音乐 吗 ？\")\n",
    "plt.matshow(attentions.numpy())\n",
    "show_plot_visdom()"
   ]
  },
  {
   "cell_type": "code",
   "execution_count": 36,
   "metadata": {},
   "outputs": [
    {
     "name": "stderr",
     "output_type": "stream",
     "text": [
      "/home/lili/tf1.5-py3/lib/python3.5/site-packages/ipykernel_launcher.py:31: UserWarning: Implicit dimension choice for softmax has been deprecated. Change the call to include dim=X as an argument.\n"
     ]
    },
    {
     "name": "stdout",
     "output_type": "stream",
     "text": [
      "> 你 爱 音乐 吗 ？\n",
      "< do you love music ? <EOS>\n"
     ]
    },
    {
     "data": {
      "image/png": "[encoded data removed]",
      "text/plain": [
       "<Figure size 432x288 with 2 Axes>"
      ]
     },
     "metadata": {},
     "output_type": "display_data"
    }
   ],
   "source": [
    "evaluate_and_show_attention(\"你 爱 音乐 吗 ？\")"
   ]
  },
  {
   "cell_type": "code",
   "execution_count": null,
   "metadata": {
    "collapsed": true
   },
   "outputs": [],
   "source": []
  }
 ],
 "metadata": {
  "anaconda-cloud": {},
  "kernelspec": {
   "display_name": "Python 3",
   "language": "python",
   "name": "python3"
  },
  "language_info": {
   "codemirror_mode": {
    "name": "ipython",
    "version": 3
   },
   "file_extension": ".py",
   "mimetype": "text/x-python",
   "name": "python",
   "nbconvert_exporter": "python",
   "pygments_lexer": "ipython3",
   "version": "3.5.2"
  }
 },
 "nbformat": 4,
 "nbformat_minor": 1
}
