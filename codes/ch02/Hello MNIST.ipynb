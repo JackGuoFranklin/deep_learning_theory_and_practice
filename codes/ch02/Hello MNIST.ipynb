{
 "cells": [
  {
   "cell_type": "markdown",
   "metadata": {},
   "source": [
    "# Hello MNIST\n"
   ]
  },
  {
   "cell_type": "markdown",
   "metadata": {},
   "source": [
    "## 测试"
   ]
  },
  {
   "cell_type": "code",
   "execution_count": 1,
   "metadata": {},
   "outputs": [
    {
     "name": "stdout",
     "output_type": "stream",
     "text": [
      "Epoch 0: 9015 / 10000\n",
      "Epoch 1: 9254 / 10000\n",
      "Epoch 2: 9353 / 10000\n",
      "Epoch 3: 9334 / 10000\n",
      "Epoch 4: 9363 / 10000\n",
      "Epoch 5: 9425 / 10000\n",
      "Epoch 6: 9431 / 10000\n",
      "Epoch 7: 9430 / 10000\n",
      "Epoch 8: 9466 / 10000\n",
      "Epoch 9: 9490 / 10000\n",
      "Epoch 10: 9453 / 10000\n",
      "Epoch 11: 9501 / 10000\n",
      "Epoch 12: 9491 / 10000\n",
      "Epoch 13: 9495 / 10000\n",
      "Epoch 14: 9498 / 10000\n",
      "Epoch 15: 9512 / 10000\n",
      "Epoch 16: 9497 / 10000\n",
      "Epoch 17: 9490 / 10000\n",
      "Epoch 18: 9496 / 10000\n",
      "Epoch 19: 9489 / 10000\n",
      "Epoch 20: 9483 / 10000\n",
      "Epoch 21: 9522 / 10000\n",
      "Epoch 22: 9477 / 10000\n",
      "Epoch 23: 9481 / 10000\n",
      "Epoch 24: 9517 / 10000\n",
      "Epoch 25: 9506 / 10000\n",
      "Epoch 26: 9522 / 10000\n",
      "Epoch 27: 9503 / 10000\n",
      "Epoch 28: 9510 / 10000\n",
      "Epoch 29: 9500 / 10000\n"
     ]
    }
   ],
   "source": [
    "%load_ext autoreload\n",
    "%autoreload 2\n",
    "\n",
    "%aimport mnist_loader\n",
    "%aimport network \n",
    "training_data, validation_data, test_data = mnist_loader.load_data_wrapper()\n",
    "net = network.Network([784, 30, 10])\n",
    "net.SGD(training_data, 30, 10, 3.0, test_data=test_data)"
   ]
  },
  {
   "cell_type": "code",
   "execution_count": null,
   "metadata": {},
   "outputs": [],
   "source": []
  }
 ],
 "metadata": {
  "kernelspec": {
   "display_name": "py35",
   "language": "python",
   "name": "py35"
  },
  "language_info": {
   "codemirror_mode": {
    "name": "ipython",
    "version": 3
   },
   "file_extension": ".py",
   "mimetype": "text/x-python",
   "name": "python",
   "nbconvert_exporter": "python",
   "pygments_lexer": "ipython3",
   "version": "3.5.4"
  }
 },
 "nbformat": 4,
 "nbformat_minor": 2
}
