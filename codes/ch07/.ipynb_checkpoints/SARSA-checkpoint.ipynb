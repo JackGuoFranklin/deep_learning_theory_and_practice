{
 "cells": [
  {
   "cell_type": "code",
   "execution_count": 2,
   "metadata": {},
   "outputs": [],
   "source": [
    "%matplotlib inline\n",
    "\n",
    "import gym\n",
    "import itertools\n",
    "import matplotlib\n",
    "import numpy as np\n",
    "import pandas as pd\n",
    "import sys\n",
    "\n",
    "if \"../\" not in sys.path:\n",
    "  sys.path.append(\"../\") \n",
    "\n",
    "from collections import defaultdict\n",
    "from envs.windy_gridworld import WindyGridworldEnv\n",
    "from common import plotting\n",
    "\n",
    "matplotlib.style.use('ggplot')"
   ]
  },
  {
   "cell_type": "code",
   "execution_count": 3,
   "metadata": {},
   "outputs": [],
   "source": [
    "env = WindyGridworldEnv()"
   ]
  },
  {
   "cell_type": "code",
   "execution_count": 4,
   "metadata": {},
   "outputs": [],
   "source": [
    "def make_epsilon_greedy_policy(Q, epsilon, nA):\n",
    "    \"\"\"\n",
    "    给定一个Q函数和epsilon，构建一个ε-贪婪的策略\n",
    "    \n",
    "    参数:\n",
    "        Q: 一个dictionary其key-value是state -> action-values.\n",
    "            key是状态s，value是一个长为nA(Action个数)的numpy数组，表示采取行为a的概率。\n",
    "        epsilon:  float \n",
    "        nA: action的个数\n",
    "    \n",
    "    返回值:\n",
    "        返回一个 函数，这个函数的输入是一个状态/观察(observation)，输出是一个长度为nA的numpy数组，表示采取不同Action的概率\n",
    "\n",
    "    \"\"\"\n",
    "    def policy_fn(observation):\n",
    "        A = np.ones(nA, dtype=float) * epsilon / nA\n",
    "        best_action = np.argmax(Q[observation])\n",
    "        A[best_action] += (1.0 - epsilon)\n",
    "        return A\n",
    "    return policy_fn"
   ]
  },
  {
   "cell_type": "code",
   "execution_count": 5,
   "metadata": {},
   "outputs": [],
   "source": [
    "def sarsa(env, num_episodes, discount_factor=1.0, alpha=0.5, epsilon=0.1):\n",
    "    \"\"\"\n",
    "    SARSA 算法: On-policy TD控制。找到最优的ε-greedy 策略。\n",
    "    \n",
    "    参数:\n",
    "        env: OpenAI 环境。\n",
    "        num_episodes: 采样的episodes次数。\n",
    "        discount_factor: 打折因子。\n",
    "        alpha: TD学习率(learning rate)。\n",
    "        epsilon:  ε-贪婪的ε，随机行为的概率\n",
    "    \n",
    "    返回值:\n",
    "         二元组(Q, stats).\n",
    "        Q 是最优行为价值函数，一个dictionary state -> action values.\n",
    "        stats是一个EpisodeStats对象，这个对象有两个numpy数值，分别是episode_lengths和episode_rewards，存储每个Episode的长度和奖励，用于绘图。\n",
    "    \"\"\"\n",
    "    \n",
    "    # 最终返回的Q(s,a)函数The final action-value function。\n",
    "    # 它是一个嵌套的dictionary state -> (action -> action-value)。\n",
    "    Q = defaultdict(lambda: np.zeros(env.action_space.n))\n",
    "    \n",
    "    # 参考返回值的注释。\n",
    "    stats = plotting.EpisodeStats(\n",
    "        episode_lengths=np.zeros(num_episodes),\n",
    "        episode_rewards=np.zeros(num_episodes))\n",
    "\n",
    "    # 通过Q(s,a)得到ε-贪婪的策略，注意Q变化后策略就随着改变了。\n",
    "    policy = make_epsilon_greedy_policy(Q, epsilon, env.action_space.n)\n",
    "    \n",
    "    for i_episode in range(num_episodes):\n",
    "        if (i_episode + 1) % 100 == 0:\n",
    "            print(\"\\rEpisode {}/{}.\".format(i_episode + 1, num_episodes), end=\"\")\n",
    "            sys.stdout.flush()\n",
    "        \n",
    "        # 重置环境并且采样第一个Action\n",
    "        state = env.reset()\n",
    "        action_probs = policy(state)\n",
    "        action = np.random.choice(np.arange(len(action_probs)), p=action_probs)\n",
    "        \n",
    "        for t in itertools.count():\n",
    "            # 采取行为A\n",
    "            next_state, reward, done, _ = env.step(action)\n",
    "            \n",
    "            # 选择下一个行为A'\n",
    "            next_action_probs = policy(next_state)\n",
    "            next_action = np.random.choice(np.arange(len(next_action_probs)), p=next_action_probs)\n",
    "            \n",
    "            # 更新统计信息\n",
    "            stats.episode_rewards[i_episode] += reward\n",
    "            stats.episode_lengths[i_episode] = t\n",
    "            \n",
    "            # TD Update\n",
    "            td_target = reward + discount_factor * Q[next_state][next_action]\n",
    "            td_delta = td_target - Q[state][action]\n",
    "            Q[state][action] += alpha * td_delta\n",
    "    \n",
    "            if done:\n",
    "                break\n",
    "                \n",
    "            action = next_action\n",
    "            state = next_state        \n",
    "    \n",
    "    return Q, stats"
   ]
  },
  {
   "cell_type": "code",
   "execution_count": 6,
   "metadata": {},
   "outputs": [
    {
     "name": "stdout",
     "output_type": "stream",
     "text": [
      "Episode 200/200."
     ]
    }
   ],
   "source": [
    "Q, stats = sarsa(env, 200)"
   ]
  },
  {
   "cell_type": "code",
   "execution_count": null,
   "metadata": {},
   "outputs": [],
   "source": [
    "plotting.plot_episode_stats(stats)"
   ]
  }
 ],
 "metadata": {
  "kernelspec": {
   "display_name": "py35",
   "language": "python",
   "name": "py35"
  },
  "language_info": {
   "codemirror_mode": {
    "name": "ipython",
    "version": 3
   },
   "file_extension": ".py",
   "mimetype": "text/x-python",
   "name": "python",
   "nbconvert_exporter": "python",
   "pygments_lexer": "ipython3",
   "version": "3.5.4"
  }
 },
 "nbformat": 4,
 "nbformat_minor": 2
}
